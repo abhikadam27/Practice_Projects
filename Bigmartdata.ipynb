{
 "cells": [
  {
   "cell_type": "code",
   "execution_count": 2,
   "id": "71a29c88",
   "metadata": {},
   "outputs": [],
   "source": [
    "#import Neccessory libraries\n",
    "import pandas as pd\n",
    "import numpy as np\n",
    "import matplotlib.pyplot as plt\n",
    "import seaborn as sns\n",
    "\n",
    "from sklearn.preprocessing import StandardScaler\n",
    "\n",
    "from sklearn.model_selection import train_test_split, GridSearchCV\n",
    "\n",
    "from sklearn.metrics import mean_absolute_error\n",
    "from sklearn.metrics import mean_squared_error\n",
    "from sklearn.metrics import r2_score\n",
    "\n",
    "import warnings\n",
    "warnings.filterwarnings('ignore')\n",
    "%matplotlib inline"
   ]
  },
  {
   "cell_type": "code",
   "execution_count": 3,
   "id": "373e9411",
   "metadata": {},
   "outputs": [],
   "source": [
    "#lets import the dataset\n",
    "train=pd.read_csv(\"bigdatamart_Train.csv\")\n",
    "test=pd.read_csv(\"bigdatamart_Test.csv\")"
   ]
  },
  {
   "cell_type": "code",
   "execution_count": 4,
   "id": "23e716f7",
   "metadata": {},
   "outputs": [],
   "source": [
    "train[\"source\"]=\"train\"\n",
    "test[\"source\"]=\"test\""
   ]
  },
  {
   "cell_type": "code",
   "execution_count": 5,
   "id": "81fb5112",
   "metadata": {},
   "outputs": [
    {
     "data": {
      "text/html": [
       "<div>\n",
       "<style scoped>\n",
       "    .dataframe tbody tr th:only-of-type {\n",
       "        vertical-align: middle;\n",
       "    }\n",
       "\n",
       "    .dataframe tbody tr th {\n",
       "        vertical-align: top;\n",
       "    }\n",
       "\n",
       "    .dataframe thead th {\n",
       "        text-align: right;\n",
       "    }\n",
       "</style>\n",
       "<table border=\"1\" class=\"dataframe\">\n",
       "  <thead>\n",
       "    <tr style=\"text-align: right;\">\n",
       "      <th></th>\n",
       "      <th>Item_Identifier</th>\n",
       "      <th>Item_Weight</th>\n",
       "      <th>Item_Fat_Content</th>\n",
       "      <th>Item_Visibility</th>\n",
       "      <th>Item_Type</th>\n",
       "      <th>Item_MRP</th>\n",
       "      <th>Outlet_Identifier</th>\n",
       "      <th>Outlet_Establishment_Year</th>\n",
       "      <th>Outlet_Size</th>\n",
       "      <th>Outlet_Location_Type</th>\n",
       "      <th>Outlet_Type</th>\n",
       "      <th>Item_Outlet_Sales</th>\n",
       "      <th>source</th>\n",
       "    </tr>\n",
       "  </thead>\n",
       "  <tbody>\n",
       "    <tr>\n",
       "      <th>0</th>\n",
       "      <td>FDA15</td>\n",
       "      <td>9.30</td>\n",
       "      <td>Low Fat</td>\n",
       "      <td>0.016047</td>\n",
       "      <td>Dairy</td>\n",
       "      <td>249.8092</td>\n",
       "      <td>OUT049</td>\n",
       "      <td>1999</td>\n",
       "      <td>Medium</td>\n",
       "      <td>Tier 1</td>\n",
       "      <td>Supermarket Type1</td>\n",
       "      <td>3735.1380</td>\n",
       "      <td>train</td>\n",
       "    </tr>\n",
       "    <tr>\n",
       "      <th>1</th>\n",
       "      <td>DRC01</td>\n",
       "      <td>5.92</td>\n",
       "      <td>Regular</td>\n",
       "      <td>0.019278</td>\n",
       "      <td>Soft Drinks</td>\n",
       "      <td>48.2692</td>\n",
       "      <td>OUT018</td>\n",
       "      <td>2009</td>\n",
       "      <td>Medium</td>\n",
       "      <td>Tier 3</td>\n",
       "      <td>Supermarket Type2</td>\n",
       "      <td>443.4228</td>\n",
       "      <td>train</td>\n",
       "    </tr>\n",
       "    <tr>\n",
       "      <th>2</th>\n",
       "      <td>FDN15</td>\n",
       "      <td>17.50</td>\n",
       "      <td>Low Fat</td>\n",
       "      <td>0.016760</td>\n",
       "      <td>Meat</td>\n",
       "      <td>141.6180</td>\n",
       "      <td>OUT049</td>\n",
       "      <td>1999</td>\n",
       "      <td>Medium</td>\n",
       "      <td>Tier 1</td>\n",
       "      <td>Supermarket Type1</td>\n",
       "      <td>2097.2700</td>\n",
       "      <td>train</td>\n",
       "    </tr>\n",
       "    <tr>\n",
       "      <th>3</th>\n",
       "      <td>FDX07</td>\n",
       "      <td>19.20</td>\n",
       "      <td>Regular</td>\n",
       "      <td>0.000000</td>\n",
       "      <td>Fruits and Vegetables</td>\n",
       "      <td>182.0950</td>\n",
       "      <td>OUT010</td>\n",
       "      <td>1998</td>\n",
       "      <td>NaN</td>\n",
       "      <td>Tier 3</td>\n",
       "      <td>Grocery Store</td>\n",
       "      <td>732.3800</td>\n",
       "      <td>train</td>\n",
       "    </tr>\n",
       "    <tr>\n",
       "      <th>4</th>\n",
       "      <td>NCD19</td>\n",
       "      <td>8.93</td>\n",
       "      <td>Low Fat</td>\n",
       "      <td>0.000000</td>\n",
       "      <td>Household</td>\n",
       "      <td>53.8614</td>\n",
       "      <td>OUT013</td>\n",
       "      <td>1987</td>\n",
       "      <td>High</td>\n",
       "      <td>Tier 3</td>\n",
       "      <td>Supermarket Type1</td>\n",
       "      <td>994.7052</td>\n",
       "      <td>train</td>\n",
       "    </tr>\n",
       "    <tr>\n",
       "      <th>...</th>\n",
       "      <td>...</td>\n",
       "      <td>...</td>\n",
       "      <td>...</td>\n",
       "      <td>...</td>\n",
       "      <td>...</td>\n",
       "      <td>...</td>\n",
       "      <td>...</td>\n",
       "      <td>...</td>\n",
       "      <td>...</td>\n",
       "      <td>...</td>\n",
       "      <td>...</td>\n",
       "      <td>...</td>\n",
       "      <td>...</td>\n",
       "    </tr>\n",
       "    <tr>\n",
       "      <th>14199</th>\n",
       "      <td>FDB58</td>\n",
       "      <td>10.50</td>\n",
       "      <td>Regular</td>\n",
       "      <td>0.013496</td>\n",
       "      <td>Snack Foods</td>\n",
       "      <td>141.3154</td>\n",
       "      <td>OUT046</td>\n",
       "      <td>1997</td>\n",
       "      <td>Small</td>\n",
       "      <td>Tier 1</td>\n",
       "      <td>Supermarket Type1</td>\n",
       "      <td>NaN</td>\n",
       "      <td>test</td>\n",
       "    </tr>\n",
       "    <tr>\n",
       "      <th>14200</th>\n",
       "      <td>FDD47</td>\n",
       "      <td>7.60</td>\n",
       "      <td>Regular</td>\n",
       "      <td>0.142991</td>\n",
       "      <td>Starchy Foods</td>\n",
       "      <td>169.1448</td>\n",
       "      <td>OUT018</td>\n",
       "      <td>2009</td>\n",
       "      <td>Medium</td>\n",
       "      <td>Tier 3</td>\n",
       "      <td>Supermarket Type2</td>\n",
       "      <td>NaN</td>\n",
       "      <td>test</td>\n",
       "    </tr>\n",
       "    <tr>\n",
       "      <th>14201</th>\n",
       "      <td>NCO17</td>\n",
       "      <td>10.00</td>\n",
       "      <td>Low Fat</td>\n",
       "      <td>0.073529</td>\n",
       "      <td>Health and Hygiene</td>\n",
       "      <td>118.7440</td>\n",
       "      <td>OUT045</td>\n",
       "      <td>2002</td>\n",
       "      <td>NaN</td>\n",
       "      <td>Tier 2</td>\n",
       "      <td>Supermarket Type1</td>\n",
       "      <td>NaN</td>\n",
       "      <td>test</td>\n",
       "    </tr>\n",
       "    <tr>\n",
       "      <th>14202</th>\n",
       "      <td>FDJ26</td>\n",
       "      <td>15.30</td>\n",
       "      <td>Regular</td>\n",
       "      <td>0.000000</td>\n",
       "      <td>Canned</td>\n",
       "      <td>214.6218</td>\n",
       "      <td>OUT017</td>\n",
       "      <td>2007</td>\n",
       "      <td>NaN</td>\n",
       "      <td>Tier 2</td>\n",
       "      <td>Supermarket Type1</td>\n",
       "      <td>NaN</td>\n",
       "      <td>test</td>\n",
       "    </tr>\n",
       "    <tr>\n",
       "      <th>14203</th>\n",
       "      <td>FDU37</td>\n",
       "      <td>9.50</td>\n",
       "      <td>Regular</td>\n",
       "      <td>0.104720</td>\n",
       "      <td>Canned</td>\n",
       "      <td>79.7960</td>\n",
       "      <td>OUT045</td>\n",
       "      <td>2002</td>\n",
       "      <td>NaN</td>\n",
       "      <td>Tier 2</td>\n",
       "      <td>Supermarket Type1</td>\n",
       "      <td>NaN</td>\n",
       "      <td>test</td>\n",
       "    </tr>\n",
       "  </tbody>\n",
       "</table>\n",
       "<p>14204 rows × 13 columns</p>\n",
       "</div>"
      ],
      "text/plain": [
       "      Item_Identifier  Item_Weight Item_Fat_Content  Item_Visibility  \\\n",
       "0               FDA15         9.30          Low Fat         0.016047   \n",
       "1               DRC01         5.92          Regular         0.019278   \n",
       "2               FDN15        17.50          Low Fat         0.016760   \n",
       "3               FDX07        19.20          Regular         0.000000   \n",
       "4               NCD19         8.93          Low Fat         0.000000   \n",
       "...               ...          ...              ...              ...   \n",
       "14199           FDB58        10.50          Regular         0.013496   \n",
       "14200           FDD47         7.60          Regular         0.142991   \n",
       "14201           NCO17        10.00          Low Fat         0.073529   \n",
       "14202           FDJ26        15.30          Regular         0.000000   \n",
       "14203           FDU37         9.50          Regular         0.104720   \n",
       "\n",
       "                   Item_Type  Item_MRP Outlet_Identifier  \\\n",
       "0                      Dairy  249.8092            OUT049   \n",
       "1                Soft Drinks   48.2692            OUT018   \n",
       "2                       Meat  141.6180            OUT049   \n",
       "3      Fruits and Vegetables  182.0950            OUT010   \n",
       "4                  Household   53.8614            OUT013   \n",
       "...                      ...       ...               ...   \n",
       "14199            Snack Foods  141.3154            OUT046   \n",
       "14200          Starchy Foods  169.1448            OUT018   \n",
       "14201     Health and Hygiene  118.7440            OUT045   \n",
       "14202                 Canned  214.6218            OUT017   \n",
       "14203                 Canned   79.7960            OUT045   \n",
       "\n",
       "       Outlet_Establishment_Year Outlet_Size Outlet_Location_Type  \\\n",
       "0                           1999      Medium               Tier 1   \n",
       "1                           2009      Medium               Tier 3   \n",
       "2                           1999      Medium               Tier 1   \n",
       "3                           1998         NaN               Tier 3   \n",
       "4                           1987        High               Tier 3   \n",
       "...                          ...         ...                  ...   \n",
       "14199                       1997       Small               Tier 1   \n",
       "14200                       2009      Medium               Tier 3   \n",
       "14201                       2002         NaN               Tier 2   \n",
       "14202                       2007         NaN               Tier 2   \n",
       "14203                       2002         NaN               Tier 2   \n",
       "\n",
       "             Outlet_Type  Item_Outlet_Sales source  \n",
       "0      Supermarket Type1          3735.1380  train  \n",
       "1      Supermarket Type2           443.4228  train  \n",
       "2      Supermarket Type1          2097.2700  train  \n",
       "3          Grocery Store           732.3800  train  \n",
       "4      Supermarket Type1           994.7052  train  \n",
       "...                  ...                ...    ...  \n",
       "14199  Supermarket Type1                NaN   test  \n",
       "14200  Supermarket Type2                NaN   test  \n",
       "14201  Supermarket Type1                NaN   test  \n",
       "14202  Supermarket Type1                NaN   test  \n",
       "14203  Supermarket Type1                NaN   test  \n",
       "\n",
       "[14204 rows x 13 columns]"
      ]
     },
     "execution_count": 5,
     "metadata": {},
     "output_type": "execute_result"
    }
   ],
   "source": [
    "#lets combine both the datasets\n",
    "df = pd.concat([train,test],ignore_index=True)\n",
    "df"
   ]
  },
  {
   "cell_type": "code",
   "execution_count": 6,
   "id": "db9b850d",
   "metadata": {},
   "outputs": [
    {
     "data": {
      "text/plain": [
       "Item_Identifier                 0\n",
       "Item_Weight                  2439\n",
       "Item_Fat_Content                0\n",
       "Item_Visibility                 0\n",
       "Item_Type                       0\n",
       "Item_MRP                        0\n",
       "Outlet_Identifier               0\n",
       "Outlet_Establishment_Year       0\n",
       "Outlet_Size                  4016\n",
       "Outlet_Location_Type            0\n",
       "Outlet_Type                     0\n",
       "Item_Outlet_Sales            5681\n",
       "source                          0\n",
       "dtype: int64"
      ]
     },
     "execution_count": 6,
     "metadata": {},
     "output_type": "execute_result"
    }
   ],
   "source": [
    "#check for null values\n",
    "df.isnull().sum()\n",
    "#There are null values "
   ]
  },
  {
   "cell_type": "code",
   "execution_count": 7,
   "id": "37c22c33",
   "metadata": {},
   "outputs": [
    {
     "name": "stdout",
     "output_type": "stream",
     "text": [
      "<class 'pandas.core.frame.DataFrame'>\n",
      "RangeIndex: 14204 entries, 0 to 14203\n",
      "Data columns (total 13 columns):\n",
      " #   Column                     Non-Null Count  Dtype  \n",
      "---  ------                     --------------  -----  \n",
      " 0   Item_Identifier            14204 non-null  object \n",
      " 1   Item_Weight                11765 non-null  float64\n",
      " 2   Item_Fat_Content           14204 non-null  object \n",
      " 3   Item_Visibility            14204 non-null  float64\n",
      " 4   Item_Type                  14204 non-null  object \n",
      " 5   Item_MRP                   14204 non-null  float64\n",
      " 6   Outlet_Identifier          14204 non-null  object \n",
      " 7   Outlet_Establishment_Year  14204 non-null  int64  \n",
      " 8   Outlet_Size                10188 non-null  object \n",
      " 9   Outlet_Location_Type       14204 non-null  object \n",
      " 10  Outlet_Type                14204 non-null  object \n",
      " 11  Item_Outlet_Sales          8523 non-null   float64\n",
      " 12  source                     14204 non-null  object \n",
      "dtypes: float64(4), int64(1), object(8)\n",
      "memory usage: 1.4+ MB\n"
     ]
    }
   ],
   "source": [
    "#check info\n",
    "df.info()"
   ]
  },
  {
   "cell_type": "code",
   "execution_count": 8,
   "id": "47b3e392",
   "metadata": {},
   "outputs": [
    {
     "data": {
      "text/plain": [
       "Item_Identifier               1559\n",
       "Item_Weight                    416\n",
       "Item_Fat_Content                 5\n",
       "Item_Visibility              13006\n",
       "Item_Type                       16\n",
       "Item_MRP                      8052\n",
       "Outlet_Identifier               10\n",
       "Outlet_Establishment_Year        9\n",
       "Outlet_Size                      4\n",
       "Outlet_Location_Type             3\n",
       "Outlet_Type                      4\n",
       "Item_Outlet_Sales             3494\n",
       "source                           2\n",
       "dtype: int64"
      ]
     },
     "execution_count": 8,
     "metadata": {},
     "output_type": "execute_result"
    }
   ],
   "source": [
    "#lets check the number of distinct values in every column\n",
    "#check only for column with object types\n",
    "df.apply(lambda x : len(x.unique()))"
   ]
  },
  {
   "cell_type": "markdown",
   "id": "53a08c07",
   "metadata": {},
   "source": [
    "This tells us that there are 1559 products and 10 outlets/stores.\n"
   ]
  },
  {
   "cell_type": "code",
   "execution_count": 9,
   "id": "ca294370",
   "metadata": {},
   "outputs": [
    {
     "name": "stdout",
     "output_type": "stream",
     "text": [
      "FDF20    10\n",
      "FDR16    10\n",
      "NCF42    10\n",
      "DRG48    10\n",
      "FDU21    10\n",
      "         ..\n",
      "DRN11     7\n",
      "FDM10     7\n",
      "FDL50     7\n",
      "FDI46     7\n",
      "FDM52     7\n",
      "Name: Item_Identifier, Length: 1559, dtype: int64\n",
      "-----------------------------------\n",
      "Low Fat    8485\n",
      "Regular    4824\n",
      "LF          522\n",
      "reg         195\n",
      "low fat     178\n",
      "Name: Item_Fat_Content, dtype: int64\n",
      "-----------------------------------\n",
      "Fruits and Vegetables    2013\n",
      "Snack Foods              1989\n",
      "Household                1548\n",
      "Frozen Foods             1426\n",
      "Dairy                    1136\n",
      "Baking Goods             1086\n",
      "Canned                   1084\n",
      "Health and Hygiene        858\n",
      "Meat                      736\n",
      "Soft Drinks               726\n",
      "Breads                    416\n",
      "Hard Drinks               362\n",
      "Others                    280\n",
      "Starchy Foods             269\n",
      "Breakfast                 186\n",
      "Seafood                    89\n",
      "Name: Item_Type, dtype: int64\n",
      "-----------------------------------\n",
      "OUT027    1559\n",
      "OUT013    1553\n",
      "OUT049    1550\n",
      "OUT046    1550\n",
      "OUT035    1550\n",
      "OUT045    1548\n",
      "OUT018    1546\n",
      "OUT017    1543\n",
      "OUT010     925\n",
      "OUT019     880\n",
      "Name: Outlet_Identifier, dtype: int64\n",
      "-----------------------------------\n",
      "Medium    4655\n",
      "Small     3980\n",
      "High      1553\n",
      "Name: Outlet_Size, dtype: int64\n",
      "-----------------------------------\n",
      "Tier 3    5583\n",
      "Tier 2    4641\n",
      "Tier 1    3980\n",
      "Name: Outlet_Location_Type, dtype: int64\n",
      "-----------------------------------\n",
      "Supermarket Type1    9294\n",
      "Grocery Store        1805\n",
      "Supermarket Type3    1559\n",
      "Supermarket Type2    1546\n",
      "Name: Outlet_Type, dtype: int64\n",
      "-----------------------------------\n",
      "train    8523\n",
      "test     5681\n",
      "Name: source, dtype: int64\n",
      "-----------------------------------\n"
     ]
    }
   ],
   "source": [
    "#Lets chcek the frequency of categorical data\n",
    "for i in df.columns:\n",
    "    if df[i].dtype==\"object\":\n",
    "        print(df[i].value_counts())\n",
    "        print('-----------------------------------')\n",
    "#Here we see there are basically two types of fat low fat and regular so we will convert LF and low fat to Low Fat and reg to Regular"
   ]
  },
  {
   "cell_type": "code",
   "execution_count": 10,
   "id": "dd37d435",
   "metadata": {},
   "outputs": [],
   "source": [
    "#lets replace low fat and LF with Low Fat\n",
    "#replace reg with Regular\n",
    "df[\"Item_Fat_Content\"].replace(\"low fat\",\"Low Fat\",inplace=True)\n",
    "df[\"Item_Fat_Content\"].replace(\"LF\",\"Low Fat\",inplace=True)\n",
    "df[\"Item_Fat_Content\"].replace(\"reg\",\"Regular\",inplace=True)"
   ]
  },
  {
   "cell_type": "code",
   "execution_count": 11,
   "id": "585ea5f1",
   "metadata": {},
   "outputs": [
    {
     "data": {
      "text/plain": [
       "Low Fat    9185\n",
       "Regular    5019\n",
       "Name: Item_Fat_Content, dtype: int64"
      ]
     },
     "execution_count": 11,
     "metadata": {},
     "output_type": "execute_result"
    }
   ],
   "source": [
    "#now check the value count for Item_Fat_Content column\n",
    "df[\"Item_Fat_Content\"].value_counts()"
   ]
  },
  {
   "cell_type": "code",
   "execution_count": 12,
   "id": "966f5485",
   "metadata": {},
   "outputs": [],
   "source": [
    "#lets impute the item weight by mean of item weight groupped by item identifier\n",
    "item_avg_weight = df.pivot_table(values='Item_Weight', index='Item_Identifier')\n",
    "missing_values = df['Item_Weight'].isnull()\n",
    "\n",
    "df.loc[missing_values,'Item_Weight']  = df.loc[missing_values,'Item_Identifier'].apply(lambda x: item_avg_weight.at[x,'Item_Weight'])\n"
   ]
  },
  {
   "cell_type": "code",
   "execution_count": 13,
   "id": "e6912ed6",
   "metadata": {},
   "outputs": [
    {
     "data": {
      "text/plain": [
       "Medium    4655\n",
       "Small     3980\n",
       "High      1553\n",
       "Name: Outlet_Size, dtype: int64"
      ]
     },
     "execution_count": 13,
     "metadata": {},
     "output_type": "execute_result"
    }
   ],
   "source": [
    " df['Outlet_Size'].value_counts()"
   ]
  },
  {
   "cell_type": "code",
   "execution_count": 14,
   "id": "00b74013",
   "metadata": {},
   "outputs": [],
   "source": [
    "#Lets impute Outlet_Size with the mode of the Outlet_Size for the particular type of outlet.\n",
    "outlet_size_modes=df.groupby([\"Outlet_Type\"]).agg({\"Outlet_Size\":lambda x: x.value_counts().index[0]})\n",
    "outlet_size_modes\n",
    "for index in outlet_size_modes.index:\n",
    "    null_condition=df.loc[df[\"Outlet_Type\"]==index,[\"Outlet_Size\"]].isnull()\n",
    "    for index_2 in null_condition.index:\n",
    "        if null_condition.loc[index_2][0]==True:\n",
    "            df.loc[index_2,[\"Outlet_Size\"]]=outlet_size_modes.loc[index][0]"
   ]
  },
  {
   "cell_type": "code",
   "execution_count": 15,
   "id": "fa5a9e72",
   "metadata": {},
   "outputs": [
    {
     "data": {
      "text/plain": [
       "Item_Identifier                 0\n",
       "Item_Weight                     0\n",
       "Item_Fat_Content                0\n",
       "Item_Visibility                 0\n",
       "Item_Type                       0\n",
       "Item_MRP                        0\n",
       "Outlet_Identifier               0\n",
       "Outlet_Establishment_Year       0\n",
       "Outlet_Size                     0\n",
       "Outlet_Location_Type            0\n",
       "Outlet_Type                     0\n",
       "Item_Outlet_Sales            5681\n",
       "source                          0\n",
       "dtype: int64"
      ]
     },
     "execution_count": 15,
     "metadata": {},
     "output_type": "execute_result"
    }
   ],
   "source": [
    "#Lets check the null values again\n",
    "df.isnull().sum()"
   ]
  },
  {
   "cell_type": "code",
   "execution_count": 16,
   "id": "b875f8b3",
   "metadata": {},
   "outputs": [],
   "source": [
    "#We noticed that the minimum value here is 0, which makes no practical sense. \n",
    "#Lets consider it like missing information and impute it with mean visibility of that product.\n",
    "visibility_avg = df.pivot_table(values='Item_Visibility', index='Item_Identifier')\n",
    "\n",
    "#Impute 0 values with mean visibility of that product\n",
    "missing_values = (df['Item_Visibility'] == 0)\n",
    "\n",
    "df.loc[missing_values,'Item_Visibility'] = df.loc[missing_values,'Item_Identifier'].apply(lambda x: visibility_avg.at[x, 'Item_Visibility'])"
   ]
  },
  {
   "cell_type": "code",
   "execution_count": 17,
   "id": "9d905245",
   "metadata": {},
   "outputs": [
    {
     "data": {
      "text/html": [
       "<div>\n",
       "<style scoped>\n",
       "    .dataframe tbody tr th:only-of-type {\n",
       "        vertical-align: middle;\n",
       "    }\n",
       "\n",
       "    .dataframe tbody tr th {\n",
       "        vertical-align: top;\n",
       "    }\n",
       "\n",
       "    .dataframe thead th {\n",
       "        text-align: right;\n",
       "    }\n",
       "</style>\n",
       "<table border=\"1\" class=\"dataframe\">\n",
       "  <thead>\n",
       "    <tr style=\"text-align: right;\">\n",
       "      <th></th>\n",
       "      <th>Item_Identifier</th>\n",
       "      <th>Item_Weight</th>\n",
       "      <th>Item_Fat_Content</th>\n",
       "      <th>Item_Visibility</th>\n",
       "      <th>Item_Type</th>\n",
       "      <th>Item_MRP</th>\n",
       "      <th>Outlet_Identifier</th>\n",
       "      <th>Outlet_Establishment_Year</th>\n",
       "      <th>Outlet_Size</th>\n",
       "      <th>Outlet_Location_Type</th>\n",
       "      <th>Outlet_Type</th>\n",
       "      <th>Item_Outlet_Sales</th>\n",
       "      <th>source</th>\n",
       "    </tr>\n",
       "  </thead>\n",
       "  <tbody>\n",
       "    <tr>\n",
       "      <th>0</th>\n",
       "      <td>FDA15</td>\n",
       "      <td>9.30</td>\n",
       "      <td>Low Fat</td>\n",
       "      <td>0.016047</td>\n",
       "      <td>Dairy</td>\n",
       "      <td>249.8092</td>\n",
       "      <td>OUT049</td>\n",
       "      <td>1999</td>\n",
       "      <td>Medium</td>\n",
       "      <td>Tier 1</td>\n",
       "      <td>Supermarket Type1</td>\n",
       "      <td>3735.1380</td>\n",
       "      <td>train</td>\n",
       "    </tr>\n",
       "    <tr>\n",
       "      <th>1</th>\n",
       "      <td>DRC01</td>\n",
       "      <td>5.92</td>\n",
       "      <td>Regular</td>\n",
       "      <td>0.019278</td>\n",
       "      <td>Soft Drinks</td>\n",
       "      <td>48.2692</td>\n",
       "      <td>OUT018</td>\n",
       "      <td>2009</td>\n",
       "      <td>Medium</td>\n",
       "      <td>Tier 3</td>\n",
       "      <td>Supermarket Type2</td>\n",
       "      <td>443.4228</td>\n",
       "      <td>train</td>\n",
       "    </tr>\n",
       "    <tr>\n",
       "      <th>2</th>\n",
       "      <td>FDN15</td>\n",
       "      <td>17.50</td>\n",
       "      <td>Low Fat</td>\n",
       "      <td>0.016760</td>\n",
       "      <td>Meat</td>\n",
       "      <td>141.6180</td>\n",
       "      <td>OUT049</td>\n",
       "      <td>1999</td>\n",
       "      <td>Medium</td>\n",
       "      <td>Tier 1</td>\n",
       "      <td>Supermarket Type1</td>\n",
       "      <td>2097.2700</td>\n",
       "      <td>train</td>\n",
       "    </tr>\n",
       "    <tr>\n",
       "      <th>3</th>\n",
       "      <td>FDX07</td>\n",
       "      <td>19.20</td>\n",
       "      <td>Regular</td>\n",
       "      <td>0.017834</td>\n",
       "      <td>Fruits and Vegetables</td>\n",
       "      <td>182.0950</td>\n",
       "      <td>OUT010</td>\n",
       "      <td>1998</td>\n",
       "      <td>Small</td>\n",
       "      <td>Tier 3</td>\n",
       "      <td>Grocery Store</td>\n",
       "      <td>732.3800</td>\n",
       "      <td>train</td>\n",
       "    </tr>\n",
       "    <tr>\n",
       "      <th>4</th>\n",
       "      <td>NCD19</td>\n",
       "      <td>8.93</td>\n",
       "      <td>Low Fat</td>\n",
       "      <td>0.009780</td>\n",
       "      <td>Household</td>\n",
       "      <td>53.8614</td>\n",
       "      <td>OUT013</td>\n",
       "      <td>1987</td>\n",
       "      <td>High</td>\n",
       "      <td>Tier 3</td>\n",
       "      <td>Supermarket Type1</td>\n",
       "      <td>994.7052</td>\n",
       "      <td>train</td>\n",
       "    </tr>\n",
       "    <tr>\n",
       "      <th>...</th>\n",
       "      <td>...</td>\n",
       "      <td>...</td>\n",
       "      <td>...</td>\n",
       "      <td>...</td>\n",
       "      <td>...</td>\n",
       "      <td>...</td>\n",
       "      <td>...</td>\n",
       "      <td>...</td>\n",
       "      <td>...</td>\n",
       "      <td>...</td>\n",
       "      <td>...</td>\n",
       "      <td>...</td>\n",
       "      <td>...</td>\n",
       "    </tr>\n",
       "    <tr>\n",
       "      <th>14199</th>\n",
       "      <td>FDB58</td>\n",
       "      <td>10.50</td>\n",
       "      <td>Regular</td>\n",
       "      <td>0.013496</td>\n",
       "      <td>Snack Foods</td>\n",
       "      <td>141.3154</td>\n",
       "      <td>OUT046</td>\n",
       "      <td>1997</td>\n",
       "      <td>Small</td>\n",
       "      <td>Tier 1</td>\n",
       "      <td>Supermarket Type1</td>\n",
       "      <td>NaN</td>\n",
       "      <td>test</td>\n",
       "    </tr>\n",
       "    <tr>\n",
       "      <th>14200</th>\n",
       "      <td>FDD47</td>\n",
       "      <td>7.60</td>\n",
       "      <td>Regular</td>\n",
       "      <td>0.142991</td>\n",
       "      <td>Starchy Foods</td>\n",
       "      <td>169.1448</td>\n",
       "      <td>OUT018</td>\n",
       "      <td>2009</td>\n",
       "      <td>Medium</td>\n",
       "      <td>Tier 3</td>\n",
       "      <td>Supermarket Type2</td>\n",
       "      <td>NaN</td>\n",
       "      <td>test</td>\n",
       "    </tr>\n",
       "    <tr>\n",
       "      <th>14201</th>\n",
       "      <td>NCO17</td>\n",
       "      <td>10.00</td>\n",
       "      <td>Low Fat</td>\n",
       "      <td>0.073529</td>\n",
       "      <td>Health and Hygiene</td>\n",
       "      <td>118.7440</td>\n",
       "      <td>OUT045</td>\n",
       "      <td>2002</td>\n",
       "      <td>Small</td>\n",
       "      <td>Tier 2</td>\n",
       "      <td>Supermarket Type1</td>\n",
       "      <td>NaN</td>\n",
       "      <td>test</td>\n",
       "    </tr>\n",
       "    <tr>\n",
       "      <th>14202</th>\n",
       "      <td>FDJ26</td>\n",
       "      <td>15.30</td>\n",
       "      <td>Regular</td>\n",
       "      <td>0.088380</td>\n",
       "      <td>Canned</td>\n",
       "      <td>214.6218</td>\n",
       "      <td>OUT017</td>\n",
       "      <td>2007</td>\n",
       "      <td>Small</td>\n",
       "      <td>Tier 2</td>\n",
       "      <td>Supermarket Type1</td>\n",
       "      <td>NaN</td>\n",
       "      <td>test</td>\n",
       "    </tr>\n",
       "    <tr>\n",
       "      <th>14203</th>\n",
       "      <td>FDU37</td>\n",
       "      <td>9.50</td>\n",
       "      <td>Regular</td>\n",
       "      <td>0.104720</td>\n",
       "      <td>Canned</td>\n",
       "      <td>79.7960</td>\n",
       "      <td>OUT045</td>\n",
       "      <td>2002</td>\n",
       "      <td>Small</td>\n",
       "      <td>Tier 2</td>\n",
       "      <td>Supermarket Type1</td>\n",
       "      <td>NaN</td>\n",
       "      <td>test</td>\n",
       "    </tr>\n",
       "  </tbody>\n",
       "</table>\n",
       "<p>14204 rows × 13 columns</p>\n",
       "</div>"
      ],
      "text/plain": [
       "      Item_Identifier  Item_Weight Item_Fat_Content  Item_Visibility  \\\n",
       "0               FDA15         9.30          Low Fat         0.016047   \n",
       "1               DRC01         5.92          Regular         0.019278   \n",
       "2               FDN15        17.50          Low Fat         0.016760   \n",
       "3               FDX07        19.20          Regular         0.017834   \n",
       "4               NCD19         8.93          Low Fat         0.009780   \n",
       "...               ...          ...              ...              ...   \n",
       "14199           FDB58        10.50          Regular         0.013496   \n",
       "14200           FDD47         7.60          Regular         0.142991   \n",
       "14201           NCO17        10.00          Low Fat         0.073529   \n",
       "14202           FDJ26        15.30          Regular         0.088380   \n",
       "14203           FDU37         9.50          Regular         0.104720   \n",
       "\n",
       "                   Item_Type  Item_MRP Outlet_Identifier  \\\n",
       "0                      Dairy  249.8092            OUT049   \n",
       "1                Soft Drinks   48.2692            OUT018   \n",
       "2                       Meat  141.6180            OUT049   \n",
       "3      Fruits and Vegetables  182.0950            OUT010   \n",
       "4                  Household   53.8614            OUT013   \n",
       "...                      ...       ...               ...   \n",
       "14199            Snack Foods  141.3154            OUT046   \n",
       "14200          Starchy Foods  169.1448            OUT018   \n",
       "14201     Health and Hygiene  118.7440            OUT045   \n",
       "14202                 Canned  214.6218            OUT017   \n",
       "14203                 Canned   79.7960            OUT045   \n",
       "\n",
       "       Outlet_Establishment_Year Outlet_Size Outlet_Location_Type  \\\n",
       "0                           1999      Medium               Tier 1   \n",
       "1                           2009      Medium               Tier 3   \n",
       "2                           1999      Medium               Tier 1   \n",
       "3                           1998       Small               Tier 3   \n",
       "4                           1987        High               Tier 3   \n",
       "...                          ...         ...                  ...   \n",
       "14199                       1997       Small               Tier 1   \n",
       "14200                       2009      Medium               Tier 3   \n",
       "14201                       2002       Small               Tier 2   \n",
       "14202                       2007       Small               Tier 2   \n",
       "14203                       2002       Small               Tier 2   \n",
       "\n",
       "             Outlet_Type  Item_Outlet_Sales source  \n",
       "0      Supermarket Type1          3735.1380  train  \n",
       "1      Supermarket Type2           443.4228  train  \n",
       "2      Supermarket Type1          2097.2700  train  \n",
       "3          Grocery Store           732.3800  train  \n",
       "4      Supermarket Type1           994.7052  train  \n",
       "...                  ...                ...    ...  \n",
       "14199  Supermarket Type1                NaN   test  \n",
       "14200  Supermarket Type2                NaN   test  \n",
       "14201  Supermarket Type1                NaN   test  \n",
       "14202  Supermarket Type1                NaN   test  \n",
       "14203  Supermarket Type1                NaN   test  \n",
       "\n",
       "[14204 rows x 13 columns]"
      ]
     },
     "execution_count": 17,
     "metadata": {},
     "output_type": "execute_result"
    }
   ],
   "source": [
    "#Lets chcek the updated dataset\n",
    "df"
   ]
  },
  {
   "cell_type": "code",
   "execution_count": 18,
   "id": "c1169784",
   "metadata": {},
   "outputs": [
    {
     "data": {
      "text/plain": [
       "<AxesSubplot:xlabel='Outlet_Size', ylabel='Item_Outlet_Sales'>"
      ]
     },
     "execution_count": 18,
     "metadata": {},
     "output_type": "execute_result"
    },
    {
     "data": {
      "image/png": "[encoded data removed]",
      "text/plain": [
       "<Figure size 432x288 with 1 Axes>"
      ]
     },
     "metadata": {
      "needs_background": "light"
     },
     "output_type": "display_data"
    }
   ],
   "source": [
    "#lets visualize thr relation between outlet_size and sales\n",
    "sns.barplot( x = \"Outlet_Size\", y = \"Item_Outlet_Sales\", data = df)"
   ]
  },
  {
   "cell_type": "markdown",
   "id": "944059c2",
   "metadata": {},
   "source": [
    "This will tell us that number of medium size stores are more than small and high size and also they are giving higher sales.\n",
    "\n",
    "small size stores are less in number and they are giving lower sales."
   ]
  },
  {
   "cell_type": "code",
   "execution_count": 19,
   "id": "2450005a",
   "metadata": {},
   "outputs": [
    {
     "data": {
      "text/plain": [
       "<seaborn.axisgrid.FacetGrid at 0xb36a398640>"
      ]
     },
     "execution_count": 19,
     "metadata": {},
     "output_type": "execute_result"
    },
    {
     "data": {
      "image/png": "[encoded data removed]",
      "text/plain": [
       "<Figure size 360x360 with 1 Axes>"
      ]
     },
     "metadata": {
      "needs_background": "light"
     },
     "output_type": "display_data"
    }
   ],
   "source": [
    "#lets check relation of item weight with sales\n",
    "sns.relplot(x = \"Item_Weight\", y = \"Item_Outlet_Sales\",data = df)"
   ]
  },
  {
   "cell_type": "markdown",
   "id": "01b31009",
   "metadata": {},
   "source": [
    "from this plot we can say the sales is not much dependent on weight of the product."
   ]
  },
  {
   "cell_type": "code",
   "execution_count": 20,
   "id": "81083516",
   "metadata": {},
   "outputs": [
    {
     "data": {
      "text/plain": [
       "<AxesSubplot:xlabel='Item_Fat_Content', ylabel='Item_Outlet_Sales'>"
      ]
     },
     "execution_count": 20,
     "metadata": {},
     "output_type": "execute_result"
    },
    {
     "data": {
      "image/png": "[encoded data removed]",
      "text/plain": [
       "<Figure size 432x288 with 1 Axes>"
      ]
     },
     "metadata": {
      "needs_background": "light"
     },
     "output_type": "display_data"
    }
   ],
   "source": [
    "#lets visualize the relation between fat content and sales\n",
    "sns.barplot( x = \"Item_Fat_Content\", y = \"Item_Outlet_Sales\", data = df)"
   ]
  },
  {
   "cell_type": "markdown",
   "id": "1a154ae4",
   "metadata": {},
   "source": [
    "From above visualization we can say, items with Low fat and with regular are nearly giving equal sales."
   ]
  },
  {
   "cell_type": "code",
   "execution_count": 21,
   "id": "51694c8c",
   "metadata": {},
   "outputs": [
    {
     "data": {
      "text/plain": [
       "<seaborn.axisgrid.FacetGrid at 0xb36a4993a0>"
      ]
     },
     "execution_count": 21,
     "metadata": {},
     "output_type": "execute_result"
    },
    {
     "data": {
      "image/png": "[encoded data removed]",
      "text/plain": [
       "<Figure size 360x360 with 1 Axes>"
      ]
     },
     "metadata": {
      "needs_background": "light"
     },
     "output_type": "display_data"
    }
   ],
   "source": [
    "sns.relplot(x = \"Item_Visibility\", y = \"Item_Outlet_Sales\",data = df)"
   ]
  },
  {
   "cell_type": "code",
   "execution_count": 22,
   "id": "f1f992aa",
   "metadata": {},
   "outputs": [
    {
     "data": {
      "text/plain": [
       "<AxesSubplot:xlabel='Item_MRP', ylabel='Item_Outlet_Sales'>"
      ]
     },
     "execution_count": 22,
     "metadata": {},
     "output_type": "execute_result"
    },
    {
     "data": {
      "image/png": "[encoded data removed]",
      "text/plain": [
       "<Figure size 432x288 with 1 Axes>"
      ]
     },
     "metadata": {
      "needs_background": "light"
     },
     "output_type": "display_data"
    }
   ],
   "source": [
    "#lets see the relation of MRP with sales\n",
    "sns.scatterplot(x = \"Item_MRP\", y = \"Item_Outlet_Sales\",data = df)"
   ]
  },
  {
   "cell_type": "markdown",
   "id": "557a2dbb",
   "metadata": {},
   "source": [
    "There is very low sales where MRP is below 50, and high sales in MRP 200 to 300"
   ]
  },
  {
   "cell_type": "code",
   "execution_count": 23,
   "id": "15c3d60d",
   "metadata": {},
   "outputs": [
    {
     "data": {
      "text/plain": [
       "<AxesSubplot:xlabel='Outlet_Location_Type', ylabel='Item_Outlet_Sales'>"
      ]
     },
     "execution_count": 23,
     "metadata": {},
     "output_type": "execute_result"
    },
    {
     "data": {
      "image/png": "[encoded data removed]",
      "text/plain": [
       "<Figure size 432x288 with 1 Axes>"
      ]
     },
     "metadata": {
      "needs_background": "light"
     },
     "output_type": "display_data"
    }
   ],
   "source": [
    "#lets visualize the relation between Outlet_Location_Type and sales\n",
    "sns.barplot( x = \"Outlet_Location_Type\", y = \"Item_Outlet_Sales\", data = df)"
   ]
  },
  {
   "cell_type": "code",
   "execution_count": 24,
   "id": "db75e2a1",
   "metadata": {},
   "outputs": [
    {
     "data": {
      "text/plain": [
       "<AxesSubplot:xlabel='Outlet_Type', ylabel='Item_Outlet_Sales'>"
      ]
     },
     "execution_count": 24,
     "metadata": {},
     "output_type": "execute_result"
    },
    {
     "data": {
      "image/png": "[encoded data removed]",
      "text/plain": [
       "<Figure size 576x360 with 1 Axes>"
      ]
     },
     "metadata": {
      "needs_background": "light"
     },
     "output_type": "display_data"
    }
   ],
   "source": [
    "#lets visualize the relation between Outlet_Type and sales\n",
    "plt.figure(figsize = (8,5))\n",
    "sns.barplot( x = \"Outlet_Type\", y = \"Item_Outlet_Sales\", data = df)"
   ]
  },
  {
   "cell_type": "markdown",
   "id": "10d07339",
   "metadata": {},
   "source": [
    "this will tell us the groceries has very less sales compared to others. \n",
    "\n",
    "Supermarket Type 3 giving higher sales among all."
   ]
  },
  {
   "cell_type": "code",
   "execution_count": 25,
   "id": "78e9655c",
   "metadata": {},
   "outputs": [],
   "source": [
    "#lets use Outlet_Establishment_Year to know how old the store is and make a column Outlet_Years\n",
    "df['Outlet_Years'] = 2013 - df['Outlet_Establishment_Year']\n",
    "df.drop(columns=[\"Outlet_Establishment_Year\"],inplace=True)"
   ]
  },
  {
   "cell_type": "code",
   "execution_count": 26,
   "id": "a093ff9c",
   "metadata": {},
   "outputs": [
    {
     "data": {
      "text/plain": [
       "<seaborn.axisgrid.FacetGrid at 0xb36a4e98e0>"
      ]
     },
     "execution_count": 26,
     "metadata": {},
     "output_type": "execute_result"
    },
    {
     "data": {
      "image/png": "[encoded data removed]",
      "text/plain": [
       "<Figure size 360x360 with 1 Axes>"
      ]
     },
     "metadata": {
      "needs_background": "light"
     },
     "output_type": "display_data"
    }
   ],
   "source": [
    "#lets check the data related to outlet year\n",
    "sns.relplot(x = \"Outlet_Years\", y = \"Item_Outlet_Sales\" , data = df )"
   ]
  },
  {
   "cell_type": "markdown",
   "id": "f74ac44f",
   "metadata": {},
   "source": [
    "As per the above plot there is very less sales from the stores established in the year 1998, they may be grocery shops. "
   ]
  },
  {
   "cell_type": "code",
   "execution_count": 27,
   "id": "7fe8227f",
   "metadata": {},
   "outputs": [
    {
     "data": {
      "text/html": [
       "<div>\n",
       "<style scoped>\n",
       "    .dataframe tbody tr th:only-of-type {\n",
       "        vertical-align: middle;\n",
       "    }\n",
       "\n",
       "    .dataframe tbody tr th {\n",
       "        vertical-align: top;\n",
       "    }\n",
       "\n",
       "    .dataframe thead th {\n",
       "        text-align: right;\n",
       "    }\n",
       "</style>\n",
       "<table border=\"1\" class=\"dataframe\">\n",
       "  <thead>\n",
       "    <tr style=\"text-align: right;\">\n",
       "      <th></th>\n",
       "      <th>counts</th>\n",
       "      <th>freqs</th>\n",
       "    </tr>\n",
       "    <tr>\n",
       "      <th>categories</th>\n",
       "      <th></th>\n",
       "      <th></th>\n",
       "    </tr>\n",
       "  </thead>\n",
       "  <tbody>\n",
       "    <tr>\n",
       "      <th>DR</th>\n",
       "      <td>1317</td>\n",
       "      <td>0.092720</td>\n",
       "    </tr>\n",
       "    <tr>\n",
       "      <th>FD</th>\n",
       "      <td>10201</td>\n",
       "      <td>0.718178</td>\n",
       "    </tr>\n",
       "    <tr>\n",
       "      <th>NC</th>\n",
       "      <td>2686</td>\n",
       "      <td>0.189102</td>\n",
       "    </tr>\n",
       "  </tbody>\n",
       "</table>\n",
       "</div>"
      ],
      "text/plain": [
       "            counts     freqs\n",
       "categories                  \n",
       "DR            1317  0.092720\n",
       "FD           10201  0.718178\n",
       "NC            2686  0.189102"
      ]
     },
     "execution_count": 27,
     "metadata": {},
     "output_type": "execute_result"
    }
   ],
   "source": [
    "#from Item_Identifier we observe first two letters indicates type of product\n",
    "#DR = Drinks\n",
    "#FD = Food\n",
    "#NC = Non Consumable\n",
    "item = df[\"Item_Identifier\"].astype(str)   #convert to string\n",
    "new_item = np.array([i[0:2] for i in item])  #take first letter only as we just want cabin name\n",
    "new_item = pd.Categorical(new_item)\n",
    "new_item.describe()"
   ]
  },
  {
   "cell_type": "code",
   "execution_count": 28,
   "id": "d10a08e2",
   "metadata": {},
   "outputs": [],
   "source": [
    "#by doing this we can drop Item_Type column because it is giving info related to item type \n",
    "df[\"Item_Identifier\"] = new_item"
   ]
  },
  {
   "cell_type": "code",
   "execution_count": 29,
   "id": "1a2a4419",
   "metadata": {},
   "outputs": [
    {
     "data": {
      "text/plain": [
       "Item_Weight          0.100417\n",
       "Item_Visibility      1.257405\n",
       "Item_MRP             0.130728\n",
       "Item_Outlet_Sales    1.177531\n",
       "Outlet_Years         0.396465\n",
       "dtype: float64"
      ]
     },
     "execution_count": 29,
     "metadata": {},
     "output_type": "execute_result"
    }
   ],
   "source": [
    "#lets check the skewness in continuous data\n",
    "df.skew()"
   ]
  },
  {
   "cell_type": "code",
   "execution_count": 30,
   "id": "6f24aa40",
   "metadata": {},
   "outputs": [],
   "source": [
    "#Lets treat the skewness\n",
    "for col in df.skew().index:\n",
    "    if col in df:\n",
    "        if df.skew().loc[col]>0.5:\n",
    "            df[col]=np.sqrt(df[col])\n",
    "        if df.skew().loc[col]<-0.5:\n",
    "            df[col]=np.cbrt(df[col])"
   ]
  },
  {
   "cell_type": "code",
   "execution_count": 31,
   "id": "716ffcd9",
   "metadata": {},
   "outputs": [
    {
     "data": {
      "text/plain": [
       "Item_Weight          0.100417\n",
       "Item_Visibility      0.414133\n",
       "Item_MRP             0.130728\n",
       "Item_Outlet_Sales    0.234676\n",
       "Outlet_Years         0.396465\n",
       "dtype: float64"
      ]
     },
     "execution_count": 31,
     "metadata": {},
     "output_type": "execute_result"
    }
   ],
   "source": [
    "#check the skewness after treating \n",
    "df.skew()"
   ]
  },
  {
   "cell_type": "markdown",
   "id": "65e12079",
   "metadata": {},
   "source": [
    "#### Numerical and One-Hot Coding of Categorical variables"
   ]
  },
  {
   "cell_type": "code",
   "execution_count": 32,
   "id": "ff9e118e",
   "metadata": {},
   "outputs": [],
   "source": [
    "from sklearn.preprocessing import LabelEncoder\n",
    "leb_enc = LabelEncoder()\n",
    "#New variable for outlet\n",
    "df['Outlet'] = leb_enc.fit_transform(df['Outlet_Identifier'])\n",
    "var_mod = ['Item_Fat_Content','Outlet_Location_Type','Outlet_Size','Item_Identifier','Outlet_Type','Outlet']\n",
    "leb_enc = LabelEncoder()\n",
    "for i in var_mod:\n",
    "    df[i] = leb_enc.fit_transform(df[i])\n",
    "\n"
   ]
  },
  {
   "cell_type": "code",
   "execution_count": 33,
   "id": "90f830ed",
   "metadata": {},
   "outputs": [],
   "source": [
    "#lets drop unwanted columns\n",
    "df.drop(columns = [\"Item_Type\",\"Outlet_Identifier\"], inplace = True)\n"
   ]
  },
  {
   "cell_type": "code",
   "execution_count": 34,
   "id": "e9d20f5f",
   "metadata": {},
   "outputs": [
    {
     "data": {
      "text/html": [
       "<div>\n",
       "<style scoped>\n",
       "    .dataframe tbody tr th:only-of-type {\n",
       "        vertical-align: middle;\n",
       "    }\n",
       "\n",
       "    .dataframe tbody tr th {\n",
       "        vertical-align: top;\n",
       "    }\n",
       "\n",
       "    .dataframe thead th {\n",
       "        text-align: right;\n",
       "    }\n",
       "</style>\n",
       "<table border=\"1\" class=\"dataframe\">\n",
       "  <thead>\n",
       "    <tr style=\"text-align: right;\">\n",
       "      <th></th>\n",
       "      <th>Item_Identifier</th>\n",
       "      <th>Item_Weight</th>\n",
       "      <th>Item_Fat_Content</th>\n",
       "      <th>Item_Visibility</th>\n",
       "      <th>Item_MRP</th>\n",
       "      <th>Outlet_Size</th>\n",
       "      <th>Outlet_Location_Type</th>\n",
       "      <th>Outlet_Type</th>\n",
       "      <th>Item_Outlet_Sales</th>\n",
       "      <th>source</th>\n",
       "      <th>Outlet_Years</th>\n",
       "      <th>Outlet</th>\n",
       "    </tr>\n",
       "  </thead>\n",
       "  <tbody>\n",
       "    <tr>\n",
       "      <th>0</th>\n",
       "      <td>1</td>\n",
       "      <td>9.30</td>\n",
       "      <td>0</td>\n",
       "      <td>0.126678</td>\n",
       "      <td>249.8092</td>\n",
       "      <td>1</td>\n",
       "      <td>0</td>\n",
       "      <td>1</td>\n",
       "      <td>61.115775</td>\n",
       "      <td>train</td>\n",
       "      <td>14</td>\n",
       "      <td>9</td>\n",
       "    </tr>\n",
       "    <tr>\n",
       "      <th>1</th>\n",
       "      <td>0</td>\n",
       "      <td>5.92</td>\n",
       "      <td>1</td>\n",
       "      <td>0.138846</td>\n",
       "      <td>48.2692</td>\n",
       "      <td>1</td>\n",
       "      <td>2</td>\n",
       "      <td>2</td>\n",
       "      <td>21.057607</td>\n",
       "      <td>train</td>\n",
       "      <td>4</td>\n",
       "      <td>3</td>\n",
       "    </tr>\n",
       "    <tr>\n",
       "      <th>2</th>\n",
       "      <td>1</td>\n",
       "      <td>17.50</td>\n",
       "      <td>0</td>\n",
       "      <td>0.129461</td>\n",
       "      <td>141.6180</td>\n",
       "      <td>1</td>\n",
       "      <td>0</td>\n",
       "      <td>1</td>\n",
       "      <td>45.795961</td>\n",
       "      <td>train</td>\n",
       "      <td>14</td>\n",
       "      <td>9</td>\n",
       "    </tr>\n",
       "    <tr>\n",
       "      <th>3</th>\n",
       "      <td>1</td>\n",
       "      <td>19.20</td>\n",
       "      <td>1</td>\n",
       "      <td>0.133545</td>\n",
       "      <td>182.0950</td>\n",
       "      <td>2</td>\n",
       "      <td>2</td>\n",
       "      <td>0</td>\n",
       "      <td>27.062520</td>\n",
       "      <td>train</td>\n",
       "      <td>15</td>\n",
       "      <td>0</td>\n",
       "    </tr>\n",
       "    <tr>\n",
       "      <th>4</th>\n",
       "      <td>2</td>\n",
       "      <td>8.93</td>\n",
       "      <td>0</td>\n",
       "      <td>0.098893</td>\n",
       "      <td>53.8614</td>\n",
       "      <td>0</td>\n",
       "      <td>2</td>\n",
       "      <td>1</td>\n",
       "      <td>31.538947</td>\n",
       "      <td>train</td>\n",
       "      <td>26</td>\n",
       "      <td>1</td>\n",
       "    </tr>\n",
       "    <tr>\n",
       "      <th>...</th>\n",
       "      <td>...</td>\n",
       "      <td>...</td>\n",
       "      <td>...</td>\n",
       "      <td>...</td>\n",
       "      <td>...</td>\n",
       "      <td>...</td>\n",
       "      <td>...</td>\n",
       "      <td>...</td>\n",
       "      <td>...</td>\n",
       "      <td>...</td>\n",
       "      <td>...</td>\n",
       "      <td>...</td>\n",
       "    </tr>\n",
       "    <tr>\n",
       "      <th>14199</th>\n",
       "      <td>1</td>\n",
       "      <td>10.50</td>\n",
       "      <td>1</td>\n",
       "      <td>0.116174</td>\n",
       "      <td>141.3154</td>\n",
       "      <td>2</td>\n",
       "      <td>0</td>\n",
       "      <td>1</td>\n",
       "      <td>NaN</td>\n",
       "      <td>test</td>\n",
       "      <td>16</td>\n",
       "      <td>8</td>\n",
       "    </tr>\n",
       "    <tr>\n",
       "      <th>14200</th>\n",
       "      <td>1</td>\n",
       "      <td>7.60</td>\n",
       "      <td>1</td>\n",
       "      <td>0.378141</td>\n",
       "      <td>169.1448</td>\n",
       "      <td>1</td>\n",
       "      <td>2</td>\n",
       "      <td>2</td>\n",
       "      <td>NaN</td>\n",
       "      <td>test</td>\n",
       "      <td>4</td>\n",
       "      <td>3</td>\n",
       "    </tr>\n",
       "    <tr>\n",
       "      <th>14201</th>\n",
       "      <td>2</td>\n",
       "      <td>10.00</td>\n",
       "      <td>0</td>\n",
       "      <td>0.271162</td>\n",
       "      <td>118.7440</td>\n",
       "      <td>2</td>\n",
       "      <td>1</td>\n",
       "      <td>1</td>\n",
       "      <td>NaN</td>\n",
       "      <td>test</td>\n",
       "      <td>11</td>\n",
       "      <td>7</td>\n",
       "    </tr>\n",
       "    <tr>\n",
       "      <th>14202</th>\n",
       "      <td>1</td>\n",
       "      <td>15.30</td>\n",
       "      <td>1</td>\n",
       "      <td>0.297288</td>\n",
       "      <td>214.6218</td>\n",
       "      <td>2</td>\n",
       "      <td>1</td>\n",
       "      <td>1</td>\n",
       "      <td>NaN</td>\n",
       "      <td>test</td>\n",
       "      <td>6</td>\n",
       "      <td>2</td>\n",
       "    </tr>\n",
       "    <tr>\n",
       "      <th>14203</th>\n",
       "      <td>1</td>\n",
       "      <td>9.50</td>\n",
       "      <td>1</td>\n",
       "      <td>0.323605</td>\n",
       "      <td>79.7960</td>\n",
       "      <td>2</td>\n",
       "      <td>1</td>\n",
       "      <td>1</td>\n",
       "      <td>NaN</td>\n",
       "      <td>test</td>\n",
       "      <td>11</td>\n",
       "      <td>7</td>\n",
       "    </tr>\n",
       "  </tbody>\n",
       "</table>\n",
       "<p>14204 rows × 12 columns</p>\n",
       "</div>"
      ],
      "text/plain": [
       "       Item_Identifier  Item_Weight  Item_Fat_Content  Item_Visibility  \\\n",
       "0                    1         9.30                 0         0.126678   \n",
       "1                    0         5.92                 1         0.138846   \n",
       "2                    1        17.50                 0         0.129461   \n",
       "3                    1        19.20                 1         0.133545   \n",
       "4                    2         8.93                 0         0.098893   \n",
       "...                ...          ...               ...              ...   \n",
       "14199                1        10.50                 1         0.116174   \n",
       "14200                1         7.60                 1         0.378141   \n",
       "14201                2        10.00                 0         0.271162   \n",
       "14202                1        15.30                 1         0.297288   \n",
       "14203                1         9.50                 1         0.323605   \n",
       "\n",
       "       Item_MRP  Outlet_Size  Outlet_Location_Type  Outlet_Type  \\\n",
       "0      249.8092            1                     0            1   \n",
       "1       48.2692            1                     2            2   \n",
       "2      141.6180            1                     0            1   \n",
       "3      182.0950            2                     2            0   \n",
       "4       53.8614            0                     2            1   \n",
       "...         ...          ...                   ...          ...   \n",
       "14199  141.3154            2                     0            1   \n",
       "14200  169.1448            1                     2            2   \n",
       "14201  118.7440            2                     1            1   \n",
       "14202  214.6218            2                     1            1   \n",
       "14203   79.7960            2                     1            1   \n",
       "\n",
       "       Item_Outlet_Sales source  Outlet_Years  Outlet  \n",
       "0              61.115775  train            14       9  \n",
       "1              21.057607  train             4       3  \n",
       "2              45.795961  train            14       9  \n",
       "3              27.062520  train            15       0  \n",
       "4              31.538947  train            26       1  \n",
       "...                  ...    ...           ...     ...  \n",
       "14199                NaN   test            16       8  \n",
       "14200                NaN   test             4       3  \n",
       "14201                NaN   test            11       7  \n",
       "14202                NaN   test             6       2  \n",
       "14203                NaN   test            11       7  \n",
       "\n",
       "[14204 rows x 12 columns]"
      ]
     },
     "execution_count": 34,
     "metadata": {},
     "output_type": "execute_result"
    }
   ],
   "source": [
    "df"
   ]
  },
  {
   "cell_type": "code",
   "execution_count": 35,
   "id": "97cc276a",
   "metadata": {},
   "outputs": [],
   "source": [
    "#Divide into test and train:\n",
    "train = df.loc[df['source']==\"train\"]\n",
    "test = df.loc[df['source']==\"test\"]\n",
    "test.reset_index(drop=True,inplace=True)"
   ]
  },
  {
   "cell_type": "code",
   "execution_count": 36,
   "id": "6151c2c7",
   "metadata": {},
   "outputs": [
    {
     "data": {
      "text/html": [
       "<div>\n",
       "<style scoped>\n",
       "    .dataframe tbody tr th:only-of-type {\n",
       "        vertical-align: middle;\n",
       "    }\n",
       "\n",
       "    .dataframe tbody tr th {\n",
       "        vertical-align: top;\n",
       "    }\n",
       "\n",
       "    .dataframe thead th {\n",
       "        text-align: right;\n",
       "    }\n",
       "</style>\n",
       "<table border=\"1\" class=\"dataframe\">\n",
       "  <thead>\n",
       "    <tr style=\"text-align: right;\">\n",
       "      <th></th>\n",
       "      <th>Item_Identifier</th>\n",
       "      <th>Item_Weight</th>\n",
       "      <th>Item_Fat_Content</th>\n",
       "      <th>Item_Visibility</th>\n",
       "      <th>Item_MRP</th>\n",
       "      <th>Outlet_Size</th>\n",
       "      <th>Outlet_Location_Type</th>\n",
       "      <th>Outlet_Type</th>\n",
       "      <th>Item_Outlet_Sales</th>\n",
       "      <th>source</th>\n",
       "      <th>Outlet_Years</th>\n",
       "      <th>Outlet</th>\n",
       "    </tr>\n",
       "  </thead>\n",
       "  <tbody>\n",
       "    <tr>\n",
       "      <th>0</th>\n",
       "      <td>1</td>\n",
       "      <td>9.300</td>\n",
       "      <td>0</td>\n",
       "      <td>0.126678</td>\n",
       "      <td>249.8092</td>\n",
       "      <td>1</td>\n",
       "      <td>0</td>\n",
       "      <td>1</td>\n",
       "      <td>61.115775</td>\n",
       "      <td>train</td>\n",
       "      <td>14</td>\n",
       "      <td>9</td>\n",
       "    </tr>\n",
       "    <tr>\n",
       "      <th>1</th>\n",
       "      <td>0</td>\n",
       "      <td>5.920</td>\n",
       "      <td>1</td>\n",
       "      <td>0.138846</td>\n",
       "      <td>48.2692</td>\n",
       "      <td>1</td>\n",
       "      <td>2</td>\n",
       "      <td>2</td>\n",
       "      <td>21.057607</td>\n",
       "      <td>train</td>\n",
       "      <td>4</td>\n",
       "      <td>3</td>\n",
       "    </tr>\n",
       "    <tr>\n",
       "      <th>2</th>\n",
       "      <td>1</td>\n",
       "      <td>17.500</td>\n",
       "      <td>0</td>\n",
       "      <td>0.129461</td>\n",
       "      <td>141.6180</td>\n",
       "      <td>1</td>\n",
       "      <td>0</td>\n",
       "      <td>1</td>\n",
       "      <td>45.795961</td>\n",
       "      <td>train</td>\n",
       "      <td>14</td>\n",
       "      <td>9</td>\n",
       "    </tr>\n",
       "    <tr>\n",
       "      <th>3</th>\n",
       "      <td>1</td>\n",
       "      <td>19.200</td>\n",
       "      <td>1</td>\n",
       "      <td>0.133545</td>\n",
       "      <td>182.0950</td>\n",
       "      <td>2</td>\n",
       "      <td>2</td>\n",
       "      <td>0</td>\n",
       "      <td>27.062520</td>\n",
       "      <td>train</td>\n",
       "      <td>15</td>\n",
       "      <td>0</td>\n",
       "    </tr>\n",
       "    <tr>\n",
       "      <th>4</th>\n",
       "      <td>2</td>\n",
       "      <td>8.930</td>\n",
       "      <td>0</td>\n",
       "      <td>0.098893</td>\n",
       "      <td>53.8614</td>\n",
       "      <td>0</td>\n",
       "      <td>2</td>\n",
       "      <td>1</td>\n",
       "      <td>31.538947</td>\n",
       "      <td>train</td>\n",
       "      <td>26</td>\n",
       "      <td>1</td>\n",
       "    </tr>\n",
       "    <tr>\n",
       "      <th>...</th>\n",
       "      <td>...</td>\n",
       "      <td>...</td>\n",
       "      <td>...</td>\n",
       "      <td>...</td>\n",
       "      <td>...</td>\n",
       "      <td>...</td>\n",
       "      <td>...</td>\n",
       "      <td>...</td>\n",
       "      <td>...</td>\n",
       "      <td>...</td>\n",
       "      <td>...</td>\n",
       "      <td>...</td>\n",
       "    </tr>\n",
       "    <tr>\n",
       "      <th>8518</th>\n",
       "      <td>1</td>\n",
       "      <td>6.865</td>\n",
       "      <td>0</td>\n",
       "      <td>0.238293</td>\n",
       "      <td>214.5218</td>\n",
       "      <td>0</td>\n",
       "      <td>2</td>\n",
       "      <td>1</td>\n",
       "      <td>52.710373</td>\n",
       "      <td>train</td>\n",
       "      <td>26</td>\n",
       "      <td>1</td>\n",
       "    </tr>\n",
       "    <tr>\n",
       "      <th>8519</th>\n",
       "      <td>1</td>\n",
       "      <td>8.380</td>\n",
       "      <td>1</td>\n",
       "      <td>0.216754</td>\n",
       "      <td>108.1570</td>\n",
       "      <td>2</td>\n",
       "      <td>1</td>\n",
       "      <td>1</td>\n",
       "      <td>23.436830</td>\n",
       "      <td>train</td>\n",
       "      <td>11</td>\n",
       "      <td>7</td>\n",
       "    </tr>\n",
       "    <tr>\n",
       "      <th>8520</th>\n",
       "      <td>2</td>\n",
       "      <td>10.600</td>\n",
       "      <td>0</td>\n",
       "      <td>0.187580</td>\n",
       "      <td>85.1224</td>\n",
       "      <td>2</td>\n",
       "      <td>1</td>\n",
       "      <td>1</td>\n",
       "      <td>34.541477</td>\n",
       "      <td>train</td>\n",
       "      <td>9</td>\n",
       "      <td>6</td>\n",
       "    </tr>\n",
       "    <tr>\n",
       "      <th>8521</th>\n",
       "      <td>1</td>\n",
       "      <td>7.210</td>\n",
       "      <td>1</td>\n",
       "      <td>0.381078</td>\n",
       "      <td>103.1332</td>\n",
       "      <td>1</td>\n",
       "      <td>2</td>\n",
       "      <td>2</td>\n",
       "      <td>42.960419</td>\n",
       "      <td>train</td>\n",
       "      <td>4</td>\n",
       "      <td>3</td>\n",
       "    </tr>\n",
       "    <tr>\n",
       "      <th>8522</th>\n",
       "      <td>0</td>\n",
       "      <td>14.800</td>\n",
       "      <td>0</td>\n",
       "      <td>0.211845</td>\n",
       "      <td>75.4670</td>\n",
       "      <td>2</td>\n",
       "      <td>0</td>\n",
       "      <td>1</td>\n",
       "      <td>27.670743</td>\n",
       "      <td>train</td>\n",
       "      <td>16</td>\n",
       "      <td>8</td>\n",
       "    </tr>\n",
       "  </tbody>\n",
       "</table>\n",
       "<p>8523 rows × 12 columns</p>\n",
       "</div>"
      ],
      "text/plain": [
       "      Item_Identifier  Item_Weight  Item_Fat_Content  Item_Visibility  \\\n",
       "0                   1        9.300                 0         0.126678   \n",
       "1                   0        5.920                 1         0.138846   \n",
       "2                   1       17.500                 0         0.129461   \n",
       "3                   1       19.200                 1         0.133545   \n",
       "4                   2        8.930                 0         0.098893   \n",
       "...               ...          ...               ...              ...   \n",
       "8518                1        6.865                 0         0.238293   \n",
       "8519                1        8.380                 1         0.216754   \n",
       "8520                2       10.600                 0         0.187580   \n",
       "8521                1        7.210                 1         0.381078   \n",
       "8522                0       14.800                 0         0.211845   \n",
       "\n",
       "      Item_MRP  Outlet_Size  Outlet_Location_Type  Outlet_Type  \\\n",
       "0     249.8092            1                     0            1   \n",
       "1      48.2692            1                     2            2   \n",
       "2     141.6180            1                     0            1   \n",
       "3     182.0950            2                     2            0   \n",
       "4      53.8614            0                     2            1   \n",
       "...        ...          ...                   ...          ...   \n",
       "8518  214.5218            0                     2            1   \n",
       "8519  108.1570            2                     1            1   \n",
       "8520   85.1224            2                     1            1   \n",
       "8521  103.1332            1                     2            2   \n",
       "8522   75.4670            2                     0            1   \n",
       "\n",
       "      Item_Outlet_Sales source  Outlet_Years  Outlet  \n",
       "0             61.115775  train            14       9  \n",
       "1             21.057607  train             4       3  \n",
       "2             45.795961  train            14       9  \n",
       "3             27.062520  train            15       0  \n",
       "4             31.538947  train            26       1  \n",
       "...                 ...    ...           ...     ...  \n",
       "8518          52.710373  train            26       1  \n",
       "8519          23.436830  train            11       7  \n",
       "8520          34.541477  train             9       6  \n",
       "8521          42.960419  train             4       3  \n",
       "8522          27.670743  train            16       8  \n",
       "\n",
       "[8523 rows x 12 columns]"
      ]
     },
     "execution_count": 36,
     "metadata": {},
     "output_type": "execute_result"
    }
   ],
   "source": [
    "train"
   ]
  },
  {
   "cell_type": "code",
   "execution_count": 37,
   "id": "1a967460",
   "metadata": {},
   "outputs": [],
   "source": [
    "#lets drop source column from df\n",
    "df.drop(columns = [\"source\"], axis =1, inplace = True)"
   ]
  },
  {
   "cell_type": "code",
   "execution_count": 38,
   "id": "a173db2b",
   "metadata": {},
   "outputs": [],
   "source": [
    "#Lets drop Item_Outlet_Sales column from test as it is the o/p variable that needs to be predicted\n",
    "test.drop(columns=[\"Item_Outlet_Sales\"],inplace=True)"
   ]
  },
  {
   "cell_type": "code",
   "execution_count": 39,
   "id": "3eb39ede",
   "metadata": {},
   "outputs": [],
   "source": [
    "#drop source column from train and test\n",
    "train.drop(columns=[\"source\"],inplace=True)\n",
    "test.drop(columns=[\"source\"],inplace=True)"
   ]
  },
  {
   "cell_type": "code",
   "execution_count": 40,
   "id": "040d7084",
   "metadata": {},
   "outputs": [],
   "source": [
    "#lets split the train data into features and labels \n",
    "x = train.drop(columns = \"Item_Outlet_Sales\", axis = 1)\n",
    "y = train[\"Item_Outlet_Sales\"]"
   ]
  },
  {
   "cell_type": "code",
   "execution_count": 41,
   "id": "2033ce67",
   "metadata": {},
   "outputs": [],
   "source": [
    "#Lets bring every column to common scale\n",
    "scaler = StandardScaler()\n",
    "X_train = scaler.fit_transform(x)\n",
    "X_train = pd.DataFrame(X_train,columns=x.columns)\n",
    "X_test = scaler.fit_transform(test)"
   ]
  },
  {
   "cell_type": "code",
   "execution_count": 42,
   "id": "f0a1944c",
   "metadata": {},
   "outputs": [
    {
     "data": {
      "text/html": [
       "<div>\n",
       "<style scoped>\n",
       "    .dataframe tbody tr th:only-of-type {\n",
       "        vertical-align: middle;\n",
       "    }\n",
       "\n",
       "    .dataframe tbody tr th {\n",
       "        vertical-align: top;\n",
       "    }\n",
       "\n",
       "    .dataframe thead th {\n",
       "        text-align: right;\n",
       "    }\n",
       "</style>\n",
       "<table border=\"1\" class=\"dataframe\">\n",
       "  <thead>\n",
       "    <tr style=\"text-align: right;\">\n",
       "      <th></th>\n",
       "      <th>Item_Identifier</th>\n",
       "      <th>Item_Weight</th>\n",
       "      <th>Item_Fat_Content</th>\n",
       "      <th>Item_Visibility</th>\n",
       "      <th>Item_MRP</th>\n",
       "      <th>Outlet_Size</th>\n",
       "      <th>Outlet_Location_Type</th>\n",
       "      <th>Outlet_Type</th>\n",
       "      <th>Outlet_Years</th>\n",
       "      <th>Outlet</th>\n",
       "    </tr>\n",
       "  </thead>\n",
       "  <tbody>\n",
       "    <tr>\n",
       "      <th>0</th>\n",
       "      <td>-0.179795</td>\n",
       "      <td>-0.769246</td>\n",
       "      <td>-0.738147</td>\n",
       "      <td>-1.327063</td>\n",
       "      <td>1.747454</td>\n",
       "      <td>-0.664080</td>\n",
       "      <td>-1.369334</td>\n",
       "      <td>-0.252658</td>\n",
       "      <td>-0.139541</td>\n",
       "      <td>1.507813</td>\n",
       "    </tr>\n",
       "    <tr>\n",
       "      <th>1</th>\n",
       "      <td>-2.095286</td>\n",
       "      <td>-1.496813</td>\n",
       "      <td>1.354743</td>\n",
       "      <td>-1.194100</td>\n",
       "      <td>-1.489023</td>\n",
       "      <td>-0.664080</td>\n",
       "      <td>1.091569</td>\n",
       "      <td>1.002972</td>\n",
       "      <td>-1.334103</td>\n",
       "      <td>-0.607071</td>\n",
       "    </tr>\n",
       "    <tr>\n",
       "      <th>2</th>\n",
       "      <td>-0.179795</td>\n",
       "      <td>0.995858</td>\n",
       "      <td>-0.738147</td>\n",
       "      <td>-1.296655</td>\n",
       "      <td>0.010040</td>\n",
       "      <td>-0.664080</td>\n",
       "      <td>-1.369334</td>\n",
       "      <td>-0.252658</td>\n",
       "      <td>-0.139541</td>\n",
       "      <td>1.507813</td>\n",
       "    </tr>\n",
       "    <tr>\n",
       "      <th>3</th>\n",
       "      <td>-0.179795</td>\n",
       "      <td>1.361794</td>\n",
       "      <td>1.354743</td>\n",
       "      <td>-1.252022</td>\n",
       "      <td>0.660050</td>\n",
       "      <td>0.799954</td>\n",
       "      <td>1.091569</td>\n",
       "      <td>-1.508289</td>\n",
       "      <td>-0.020085</td>\n",
       "      <td>-1.664513</td>\n",
       "    </tr>\n",
       "    <tr>\n",
       "      <th>4</th>\n",
       "      <td>1.735696</td>\n",
       "      <td>-0.848890</td>\n",
       "      <td>-0.738147</td>\n",
       "      <td>-1.630673</td>\n",
       "      <td>-1.399220</td>\n",
       "      <td>-2.128115</td>\n",
       "      <td>1.091569</td>\n",
       "      <td>-0.252658</td>\n",
       "      <td>1.293934</td>\n",
       "      <td>-1.312032</td>\n",
       "    </tr>\n",
       "    <tr>\n",
       "      <th>...</th>\n",
       "      <td>...</td>\n",
       "      <td>...</td>\n",
       "      <td>...</td>\n",
       "      <td>...</td>\n",
       "      <td>...</td>\n",
       "      <td>...</td>\n",
       "      <td>...</td>\n",
       "      <td>...</td>\n",
       "      <td>...</td>\n",
       "      <td>...</td>\n",
       "    </tr>\n",
       "    <tr>\n",
       "      <th>8518</th>\n",
       "      <td>-0.179795</td>\n",
       "      <td>-1.293395</td>\n",
       "      <td>-0.738147</td>\n",
       "      <td>-0.107430</td>\n",
       "      <td>1.180783</td>\n",
       "      <td>-2.128115</td>\n",
       "      <td>1.091569</td>\n",
       "      <td>-0.252658</td>\n",
       "      <td>1.293934</td>\n",
       "      <td>-1.312032</td>\n",
       "    </tr>\n",
       "    <tr>\n",
       "      <th>8519</th>\n",
       "      <td>-0.179795</td>\n",
       "      <td>-0.967282</td>\n",
       "      <td>1.354743</td>\n",
       "      <td>-0.342783</td>\n",
       "      <td>-0.527301</td>\n",
       "      <td>0.799954</td>\n",
       "      <td>-0.138882</td>\n",
       "      <td>-0.252658</td>\n",
       "      <td>-0.497909</td>\n",
       "      <td>0.802852</td>\n",
       "    </tr>\n",
       "    <tr>\n",
       "      <th>8520</th>\n",
       "      <td>1.735696</td>\n",
       "      <td>-0.489412</td>\n",
       "      <td>-0.738147</td>\n",
       "      <td>-0.661575</td>\n",
       "      <td>-0.897208</td>\n",
       "      <td>0.799954</td>\n",
       "      <td>-0.138882</td>\n",
       "      <td>-0.252658</td>\n",
       "      <td>-0.736822</td>\n",
       "      <td>0.450371</td>\n",
       "    </tr>\n",
       "    <tr>\n",
       "      <th>8521</th>\n",
       "      <td>-0.179795</td>\n",
       "      <td>-1.219132</td>\n",
       "      <td>1.354743</td>\n",
       "      <td>1.452812</td>\n",
       "      <td>-0.607977</td>\n",
       "      <td>-0.664080</td>\n",
       "      <td>1.091569</td>\n",
       "      <td>1.002972</td>\n",
       "      <td>-1.334103</td>\n",
       "      <td>-0.607071</td>\n",
       "    </tr>\n",
       "    <tr>\n",
       "      <th>8522</th>\n",
       "      <td>-2.095286</td>\n",
       "      <td>0.414665</td>\n",
       "      <td>-0.738147</td>\n",
       "      <td>-0.396429</td>\n",
       "      <td>-1.052261</td>\n",
       "      <td>0.799954</td>\n",
       "      <td>-1.369334</td>\n",
       "      <td>-0.252658</td>\n",
       "      <td>0.099372</td>\n",
       "      <td>1.155333</td>\n",
       "    </tr>\n",
       "  </tbody>\n",
       "</table>\n",
       "<p>8523 rows × 10 columns</p>\n",
       "</div>"
      ],
      "text/plain": [
       "      Item_Identifier  Item_Weight  Item_Fat_Content  Item_Visibility  \\\n",
       "0           -0.179795    -0.769246         -0.738147        -1.327063   \n",
       "1           -2.095286    -1.496813          1.354743        -1.194100   \n",
       "2           -0.179795     0.995858         -0.738147        -1.296655   \n",
       "3           -0.179795     1.361794          1.354743        -1.252022   \n",
       "4            1.735696    -0.848890         -0.738147        -1.630673   \n",
       "...               ...          ...               ...              ...   \n",
       "8518        -0.179795    -1.293395         -0.738147        -0.107430   \n",
       "8519        -0.179795    -0.967282          1.354743        -0.342783   \n",
       "8520         1.735696    -0.489412         -0.738147        -0.661575   \n",
       "8521        -0.179795    -1.219132          1.354743         1.452812   \n",
       "8522        -2.095286     0.414665         -0.738147        -0.396429   \n",
       "\n",
       "      Item_MRP  Outlet_Size  Outlet_Location_Type  Outlet_Type  Outlet_Years  \\\n",
       "0     1.747454    -0.664080             -1.369334    -0.252658     -0.139541   \n",
       "1    -1.489023    -0.664080              1.091569     1.002972     -1.334103   \n",
       "2     0.010040    -0.664080             -1.369334    -0.252658     -0.139541   \n",
       "3     0.660050     0.799954              1.091569    -1.508289     -0.020085   \n",
       "4    -1.399220    -2.128115              1.091569    -0.252658      1.293934   \n",
       "...        ...          ...                   ...          ...           ...   \n",
       "8518  1.180783    -2.128115              1.091569    -0.252658      1.293934   \n",
       "8519 -0.527301     0.799954             -0.138882    -0.252658     -0.497909   \n",
       "8520 -0.897208     0.799954             -0.138882    -0.252658     -0.736822   \n",
       "8521 -0.607977    -0.664080              1.091569     1.002972     -1.334103   \n",
       "8522 -1.052261     0.799954             -1.369334    -0.252658      0.099372   \n",
       "\n",
       "        Outlet  \n",
       "0     1.507813  \n",
       "1    -0.607071  \n",
       "2     1.507813  \n",
       "3    -1.664513  \n",
       "4    -1.312032  \n",
       "...        ...  \n",
       "8518 -1.312032  \n",
       "8519  0.802852  \n",
       "8520  0.450371  \n",
       "8521 -0.607071  \n",
       "8522  1.155333  \n",
       "\n",
       "[8523 rows x 10 columns]"
      ]
     },
     "execution_count": 42,
     "metadata": {},
     "output_type": "execute_result"
    }
   ],
   "source": [
    "X_train"
   ]
  },
  {
   "cell_type": "code",
   "execution_count": 43,
   "id": "ffd801eb",
   "metadata": {},
   "outputs": [
    {
     "name": "stdout",
     "output_type": "stream",
     "text": [
      "max r2 score is 0.5922252184633574 on Random State 151\n"
     ]
    }
   ],
   "source": [
    "#to find random stat which gives maximum r2_score\n",
    "from sklearn.linear_model import LinearRegression\n",
    "max_r_score=0\n",
    "r_state = 0\n",
    "for i in range(150,200):\n",
    "    x_train, x_test, y_train, y_test = train_test_split(X_train, y,test_size = 0.25,random_state = r_state)\n",
    "    reg = LinearRegression()\n",
    "    reg.fit(x_train,y_train)\n",
    "    y_pred = reg.predict(x_test)\n",
    "    r2_scr=r2_score(y_test,y_pred)\n",
    "    if r2_scr > max_r_score:\n",
    "        max_r_score = r2_scr\n",
    "        r_state = i\n",
    "print(\"max r2 score is\",max_r_score,\"on Random State\",r_state)"
   ]
  },
  {
   "cell_type": "code",
   "execution_count": 44,
   "id": "63d6709e",
   "metadata": {},
   "outputs": [],
   "source": [
    "#lets split our train data into train and test part\n",
    "x_train, x_test, y_train, y_test = train_test_split(X_train, y,test_size = 0.25,random_state = 150)"
   ]
  },
  {
   "cell_type": "code",
   "execution_count": 45,
   "id": "cdb6e797",
   "metadata": {},
   "outputs": [
    {
     "name": "stdout",
     "output_type": "stream",
     "text": [
      "RMSE : 12.011533956631938\n",
      "R2 Score : 0.5922252184633574\n"
     ]
    }
   ],
   "source": [
    "#Model with LinearRegression\n",
    "reg.fit(x_train,y_train)\n",
    "y_pred = reg.predict(x_test)\n",
    "\n",
    "#evaluation\n",
    "mse = mean_squared_error(y_test,y_pred)\n",
    "rmse = np.sqrt(mse)\n",
    "print(\"RMSE :\", rmse)\n",
    "\n",
    "# r2 score\n",
    "r2 = r2_score(y_test,y_pred)\n",
    "print(\"R2 Score :\", r2)"
   ]
  },
  {
   "cell_type": "code",
   "execution_count": 46,
   "id": "ee6cd00c",
   "metadata": {},
   "outputs": [
    {
     "name": "stdout",
     "output_type": "stream",
     "text": [
      "RMSE : 15.172221407077627\n",
      "R2 Score : 0.3493884626828945\n"
     ]
    }
   ],
   "source": [
    "#Model with DecesionTreeRegressor\n",
    "from sklearn.tree import DecisionTreeRegressor\n",
    "dt = DecisionTreeRegressor()\n",
    "dt.fit(x_train, y_train)\n",
    "pred_dt = dt.predict(x_test)\n",
    "\n",
    "#evaluation\n",
    "mse = mean_squared_error(y_test,pred_dt)\n",
    "rmse = np.sqrt(mse)\n",
    "print(\"RMSE :\", rmse)\n",
    "\n",
    "# r2 score\n",
    "r2 = r2_score(y_test,pred_dt)\n",
    "print(\"R2 Score :\", r2)"
   ]
  },
  {
   "cell_type": "code",
   "execution_count": 47,
   "id": "27739984",
   "metadata": {},
   "outputs": [
    {
     "name": "stdout",
     "output_type": "stream",
     "text": [
      "RMSE : 10.901414336187743\n",
      "R2 Score : 0.6641161598406714\n"
     ]
    }
   ],
   "source": [
    "#Model with RandomForestRegressor\n",
    "from sklearn.ensemble import RandomForestRegressor\n",
    "\n",
    "rf = RandomForestRegressor()\n",
    "rf.fit(x_train, y_train)\n",
    "y_pred = rf.predict(x_test)\n",
    "\n",
    "# evaluation\n",
    "mse = mean_squared_error(y_test, y_pred)\n",
    "rmse = np.sqrt(mse)\n",
    "print(\"RMSE :\", rmse)\n",
    "\n",
    "# r2 score\n",
    "r2 = r2_score(y_test, y_pred)\n",
    "print(\"R2 Score :\", r2)"
   ]
  },
  {
   "cell_type": "code",
   "execution_count": 48,
   "id": "2a314e1d",
   "metadata": {},
   "outputs": [
    {
     "name": "stdout",
     "output_type": "stream",
     "text": [
      "RMSE : 11.464349005296407\n",
      "R2 Score : 0.6285313099411889\n"
     ]
    }
   ],
   "source": [
    "#Model with KNeighborsRegressor\n",
    "from sklearn.neighbors import KNeighborsRegressor\n",
    "knr =  KNeighborsRegressor()\n",
    "knr.fit(x_train, y_train)\n",
    "pred_knr = knr.predict(x_test)\n",
    "\n",
    "# evaluation\n",
    "mse = mean_squared_error(y_test, pred_knr)\n",
    "rmse = np.sqrt(mse)\n",
    "print(\"RMSE :\", rmse)\n",
    "\n",
    "# r2 score\n",
    "r2 = r2_score(y_test, pred_knr)\n",
    "print(\"R2 Score :\", r2)"
   ]
  },
  {
   "cell_type": "code",
   "execution_count": 49,
   "id": "a705d428",
   "metadata": {},
   "outputs": [
    {
     "name": "stdout",
     "output_type": "stream",
     "text": [
      "RMSE : 11.464349005296407\n",
      "R2 Score : 0.6285313099411889\n"
     ]
    }
   ],
   "source": [
    "#Lets use SVM regressor\n",
    "from sklearn.svm import SVR\n",
    "svr =  KNeighborsRegressor()\n",
    "svr.fit(x_train, y_train)\n",
    "pred_svr = knr.predict(x_test)\n",
    "\n",
    "# evaluation\n",
    "mse = mean_squared_error(y_test, pred_svr)\n",
    "rmse = np.sqrt(mse)\n",
    "print(\"RMSE :\", rmse)\n",
    "\n",
    "# r2 score\n",
    "r2 = r2_score(y_test, pred_svr)\n",
    "print(\"R2 Score :\", r2)"
   ]
  },
  {
   "cell_type": "markdown",
   "id": "db138cc8",
   "metadata": {},
   "source": [
    "## Cross validation"
   ]
  },
  {
   "cell_type": "code",
   "execution_count": 50,
   "id": "9d935a45",
   "metadata": {},
   "outputs": [
    {
     "name": "stdout",
     "output_type": "stream",
     "text": [
      "Cross validation score of LinearRegression model is : 0.5579581561267254\n"
     ]
    }
   ],
   "source": [
    "from sklearn.model_selection import KFold, cross_val_score\n",
    "k_f =KFold(n_splits = 3, shuffle = True)\n",
    "k_f\n",
    "#for  LinearRegression model\n",
    "reg = LinearRegression()\n",
    "c_scores = cross_val_score(reg,X_train,y,cv=5)\n",
    "print(\"Cross validation score of LinearRegression model is :\", c_scores.mean())"
   ]
  },
  {
   "cell_type": "code",
   "execution_count": 51,
   "id": "ee3d1285",
   "metadata": {},
   "outputs": [
    {
     "name": "stdout",
     "output_type": "stream",
     "text": [
      "Cross validation score of DecisionTreeRegressor model is : 0.34069521500007294\n"
     ]
    }
   ],
   "source": [
    "#for DecesionTreeRegressor model\n",
    "dt =DecisionTreeRegressor()\n",
    "c_scores = cross_val_score(dt,X_train,y,cv=5)\n",
    "print(\"Cross validation score of DecisionTreeRegressor model is :\", c_scores.mean())"
   ]
  },
  {
   "cell_type": "code",
   "execution_count": 52,
   "id": "cb10676d",
   "metadata": {},
   "outputs": [
    {
     "name": "stdout",
     "output_type": "stream",
     "text": [
      "Cross validation score of RandomForestRegressor model is : 0.6335139594211701\n"
     ]
    }
   ],
   "source": [
    "#for RandomForestRegressor model\n",
    "c_scores = cross_val_score(rf,X_train,y,cv=5)\n",
    "print(\"Cross validation score of RandomForestRegressor model is :\", c_scores.mean())"
   ]
  },
  {
   "cell_type": "code",
   "execution_count": 53,
   "id": "5bb0aee7",
   "metadata": {},
   "outputs": [
    {
     "name": "stdout",
     "output_type": "stream",
     "text": [
      "Cross validation score of KNeighborsRegressor model is : 0.6010967040207099\n"
     ]
    }
   ],
   "source": [
    "#for KNeighborsRegressor model\n",
    "c_scores = cross_val_score(knr,X_train,y,cv=5)\n",
    "print(\"Cross validation score of KNeighborsRegressor model is :\", c_scores.mean())"
   ]
  },
  {
   "cell_type": "code",
   "execution_count": 54,
   "id": "589f0678",
   "metadata": {},
   "outputs": [
    {
     "name": "stdout",
     "output_type": "stream",
     "text": [
      "Cross validation score of SVR model is : 0.6010967040207099\n"
     ]
    }
   ],
   "source": [
    "#for SVR model\n",
    "c_scores = cross_val_score(svr,X_train,y,cv=5)\n",
    "print(\"Cross validation score of SVR model is :\", c_scores.mean())"
   ]
  },
  {
   "cell_type": "markdown",
   "id": "46e3c1fa",
   "metadata": {},
   "source": [
    "All the algorithms are deffering with 3% after cross validation , we will select a model giving more accuracy with least root meen square error. which is RandomForestRegressor"
   ]
  },
  {
   "cell_type": "markdown",
   "id": "62f03c13",
   "metadata": {},
   "source": [
    "## Hyperparameter Tunning"
   ]
  },
  {
   "cell_type": "code",
   "execution_count": 55,
   "id": "6e245649",
   "metadata": {},
   "outputs": [],
   "source": [
    "grid_params = {\n",
    "                'max_depth': [2,5,6,9,10],\n",
    "                'n_estimators':[200,500,700,900],\n",
    "                'min_samples_leaf': [1, 2, 4, 5],\n",
    "                'max_features':['aoto','sqrt','log2'],\n",
    "                'bootstrap': [True, False]\n",
    "                }"
   ]
  },
  {
   "cell_type": "code",
   "execution_count": 56,
   "id": "1a9a2ca3",
   "metadata": {},
   "outputs": [
    {
     "data": {
      "text/plain": [
       "GridSearchCV(cv=5, estimator=RandomForestRegressor(),\n",
       "             param_grid={'bootstrap': [True, False],\n",
       "                         'max_depth': [2, 5, 6, 9, 10],\n",
       "                         'max_features': ['aoto', 'sqrt', 'log2'],\n",
       "                         'min_samples_leaf': [1, 2, 4, 5],\n",
       "                         'n_estimators': [200, 500, 700, 900]})"
      ]
     },
     "execution_count": 56,
     "metadata": {},
     "output_type": "execute_result"
    }
   ],
   "source": [
    "GCV =  GridSearchCV(RandomForestRegressor(), grid_params, cv = 5)\n",
    "GCV.fit(x_train,y_train)"
   ]
  },
  {
   "cell_type": "code",
   "execution_count": 57,
   "id": "efb6baba",
   "metadata": {},
   "outputs": [
    {
     "data": {
      "text/plain": [
       "{'bootstrap': True,\n",
       " 'max_depth': 10,\n",
       " 'max_features': 'sqrt',\n",
       " 'min_samples_leaf': 4,\n",
       " 'n_estimators': 500}"
      ]
     },
     "execution_count": 57,
     "metadata": {},
     "output_type": "execute_result"
    }
   ],
   "source": [
    "GCV.best_params_       #printing the best parameters found by GridSearchCV"
   ]
  },
  {
   "cell_type": "code",
   "execution_count": 59,
   "id": "847cf3d1",
   "metadata": {},
   "outputs": [
    {
     "name": "stdout",
     "output_type": "stream",
     "text": [
      "r2 Score: 69.52479780530928%\n",
      "---------------------------------------------------\n",
      "RMSE : 10.38392611639841\n"
     ]
    }
   ],
   "source": [
    "#Let's train and test our model using best parameters\n",
    "model = RandomForestRegressor(max_depth=10, n_estimators=500, bootstrap=True, max_features= 'sqrt',min_samples_leaf=4)\n",
    "\n",
    "model.fit(x_train,y_train)\n",
    "pred = model.predict(x_test)\n",
    "\n",
    "# evaluation\n",
    "mse = mean_squared_error(y_test, pred)\n",
    "rmse = np.sqrt(mse)\n",
    "\n",
    "print(f\"r2 Score: {r2_score(y_test,pred)*100}%\")\n",
    "print(\"---------------------------------------------------\")\n",
    "print(\"RMSE :\", rmse)"
   ]
  },
  {
   "cell_type": "code",
   "execution_count": 60,
   "id": "7cbb8b6c",
   "metadata": {},
   "outputs": [],
   "source": [
    "#lets predict the sales with our best model\n",
    "pred = model.predict(X_test)"
   ]
  },
  {
   "cell_type": "code",
   "execution_count": 61,
   "id": "af039ddd",
   "metadata": {},
   "outputs": [],
   "source": [
    "#Lets create dataframe with test data\n",
    "X_test = pd.DataFrame(X_test,columns=test.columns)"
   ]
  },
  {
   "cell_type": "code",
   "execution_count": 62,
   "id": "eac9c3b3",
   "metadata": {},
   "outputs": [],
   "source": [
    "#lets make the dataframe for prediction\n",
    "pred = pd.DataFrame(pred, columns=[\"Item_Outlet_sales\"])"
   ]
  },
  {
   "cell_type": "code",
   "execution_count": 63,
   "id": "eff99664",
   "metadata": {},
   "outputs": [],
   "source": [
    "#lets transform test bata into dataframe\n",
    "X_test[\"Item_Outlet_sales\"] = pred"
   ]
  },
  {
   "cell_type": "code",
   "execution_count": 64,
   "id": "542846df",
   "metadata": {},
   "outputs": [
    {
     "data": {
      "text/html": [
       "<div>\n",
       "<style scoped>\n",
       "    .dataframe tbody tr th:only-of-type {\n",
       "        vertical-align: middle;\n",
       "    }\n",
       "\n",
       "    .dataframe tbody tr th {\n",
       "        vertical-align: top;\n",
       "    }\n",
       "\n",
       "    .dataframe thead th {\n",
       "        text-align: right;\n",
       "    }\n",
       "</style>\n",
       "<table border=\"1\" class=\"dataframe\">\n",
       "  <thead>\n",
       "    <tr style=\"text-align: right;\">\n",
       "      <th></th>\n",
       "      <th>Item_Identifier</th>\n",
       "      <th>Item_Weight</th>\n",
       "      <th>Item_Fat_Content</th>\n",
       "      <th>Item_Visibility</th>\n",
       "      <th>Item_MRP</th>\n",
       "      <th>Outlet_Size</th>\n",
       "      <th>Outlet_Location_Type</th>\n",
       "      <th>Outlet_Type</th>\n",
       "      <th>Outlet_Years</th>\n",
       "      <th>Outlet</th>\n",
       "      <th>Item_Outlet_sales</th>\n",
       "    </tr>\n",
       "  </thead>\n",
       "  <tbody>\n",
       "    <tr>\n",
       "      <th>0</th>\n",
       "      <td>-0.191873</td>\n",
       "      <td>1.734064</td>\n",
       "      <td>-0.740811</td>\n",
       "      <td>-1.766750</td>\n",
       "      <td>-0.536555</td>\n",
       "      <td>-0.664166</td>\n",
       "      <td>-1.369215</td>\n",
       "      <td>-0.252769</td>\n",
       "      <td>-0.139891</td>\n",
       "      <td>1.507689</td>\n",
       "      <td>38.594591</td>\n",
       "    </tr>\n",
       "    <tr>\n",
       "      <th>1</th>\n",
       "      <td>-0.191873</td>\n",
       "      <td>-0.938845</td>\n",
       "      <td>1.349873</td>\n",
       "      <td>-0.564629</td>\n",
       "      <td>-0.868937</td>\n",
       "      <td>0.799989</td>\n",
       "      <td>-0.138827</td>\n",
       "      <td>-0.252769</td>\n",
       "      <td>-1.095512</td>\n",
       "      <td>-0.959749</td>\n",
       "      <td>37.434764</td>\n",
       "    </tr>\n",
       "    <tr>\n",
       "      <th>2</th>\n",
       "      <td>1.723819</td>\n",
       "      <td>0.413711</td>\n",
       "      <td>-0.740811</td>\n",
       "      <td>0.752920</td>\n",
       "      <td>1.629848</td>\n",
       "      <td>0.799989</td>\n",
       "      <td>1.091560</td>\n",
       "      <td>-1.507994</td>\n",
       "      <td>-0.020438</td>\n",
       "      <td>-1.664731</td>\n",
       "      <td>23.181154</td>\n",
       "    </tr>\n",
       "    <tr>\n",
       "      <th>3</th>\n",
       "      <td>-0.191873</td>\n",
       "      <td>-1.150316</td>\n",
       "      <td>-0.740811</td>\n",
       "      <td>-1.358077</td>\n",
       "      <td>0.226697</td>\n",
       "      <td>0.799989</td>\n",
       "      <td>-0.138827</td>\n",
       "      <td>-0.252769</td>\n",
       "      <td>-1.095512</td>\n",
       "      <td>-0.959749</td>\n",
       "      <td>49.880407</td>\n",
       "    </tr>\n",
       "    <tr>\n",
       "      <th>4</th>\n",
       "      <td>-0.191873</td>\n",
       "      <td>0.199020</td>\n",
       "      <td>1.349873</td>\n",
       "      <td>1.070692</td>\n",
       "      <td>1.508110</td>\n",
       "      <td>-0.664166</td>\n",
       "      <td>1.091560</td>\n",
       "      <td>2.257683</td>\n",
       "      <td>1.532446</td>\n",
       "      <td>0.097725</td>\n",
       "      <td>73.796563</td>\n",
       "    </tr>\n",
       "    <tr>\n",
       "      <th>...</th>\n",
       "      <td>...</td>\n",
       "      <td>...</td>\n",
       "      <td>...</td>\n",
       "      <td>...</td>\n",
       "      <td>...</td>\n",
       "      <td>...</td>\n",
       "      <td>...</td>\n",
       "      <td>...</td>\n",
       "      <td>...</td>\n",
       "      <td>...</td>\n",
       "      <td>...</td>\n",
       "    </tr>\n",
       "    <tr>\n",
       "      <th>5676</th>\n",
       "      <td>-0.191873</td>\n",
       "      <td>-0.466524</td>\n",
       "      <td>1.349873</td>\n",
       "      <td>-1.444892</td>\n",
       "      <td>0.004727</td>\n",
       "      <td>0.799989</td>\n",
       "      <td>-1.369215</td>\n",
       "      <td>-0.252769</td>\n",
       "      <td>0.099015</td>\n",
       "      <td>1.155198</td>\n",
       "      <td>45.607194</td>\n",
       "    </tr>\n",
       "    <tr>\n",
       "      <th>5677</th>\n",
       "      <td>-0.191873</td>\n",
       "      <td>-1.089129</td>\n",
       "      <td>1.349873</td>\n",
       "      <td>1.442823</td>\n",
       "      <td>0.455014</td>\n",
       "      <td>-0.664166</td>\n",
       "      <td>1.091560</td>\n",
       "      <td>1.002457</td>\n",
       "      <td>-1.334417</td>\n",
       "      <td>-0.607258</td>\n",
       "      <td>49.007046</td>\n",
       "    </tr>\n",
       "    <tr>\n",
       "      <th>5678</th>\n",
       "      <td>1.723819</td>\n",
       "      <td>-0.573870</td>\n",
       "      <td>-0.740811</td>\n",
       "      <td>0.263562</td>\n",
       "      <td>-0.360485</td>\n",
       "      <td>0.799989</td>\n",
       "      <td>-0.138827</td>\n",
       "      <td>-0.252769</td>\n",
       "      <td>-0.498248</td>\n",
       "      <td>0.802707</td>\n",
       "      <td>41.554330</td>\n",
       "    </tr>\n",
       "    <tr>\n",
       "      <th>5679</th>\n",
       "      <td>-0.191873</td>\n",
       "      <td>0.563996</td>\n",
       "      <td>1.349873</td>\n",
       "      <td>0.551558</td>\n",
       "      <td>1.190844</td>\n",
       "      <td>0.799989</td>\n",
       "      <td>-0.138827</td>\n",
       "      <td>-0.252769</td>\n",
       "      <td>-1.095512</td>\n",
       "      <td>-0.959749</td>\n",
       "      <td>60.477729</td>\n",
       "    </tr>\n",
       "    <tr>\n",
       "      <th>5680</th>\n",
       "      <td>-0.191873</td>\n",
       "      <td>-0.681215</td>\n",
       "      <td>1.349873</td>\n",
       "      <td>0.841657</td>\n",
       "      <td>-0.990674</td>\n",
       "      <td>0.799989</td>\n",
       "      <td>-0.138827</td>\n",
       "      <td>-0.252769</td>\n",
       "      <td>-0.498248</td>\n",
       "      <td>0.802707</td>\n",
       "      <td>36.182842</td>\n",
       "    </tr>\n",
       "  </tbody>\n",
       "</table>\n",
       "<p>5681 rows × 11 columns</p>\n",
       "</div>"
      ],
      "text/plain": [
       "      Item_Identifier  Item_Weight  Item_Fat_Content  Item_Visibility  \\\n",
       "0           -0.191873     1.734064         -0.740811        -1.766750   \n",
       "1           -0.191873    -0.938845          1.349873        -0.564629   \n",
       "2            1.723819     0.413711         -0.740811         0.752920   \n",
       "3           -0.191873    -1.150316         -0.740811        -1.358077   \n",
       "4           -0.191873     0.199020          1.349873         1.070692   \n",
       "...               ...          ...               ...              ...   \n",
       "5676        -0.191873    -0.466524          1.349873        -1.444892   \n",
       "5677        -0.191873    -1.089129          1.349873         1.442823   \n",
       "5678         1.723819    -0.573870         -0.740811         0.263562   \n",
       "5679        -0.191873     0.563996          1.349873         0.551558   \n",
       "5680        -0.191873    -0.681215          1.349873         0.841657   \n",
       "\n",
       "      Item_MRP  Outlet_Size  Outlet_Location_Type  Outlet_Type  Outlet_Years  \\\n",
       "0    -0.536555    -0.664166             -1.369215    -0.252769     -0.139891   \n",
       "1    -0.868937     0.799989             -0.138827    -0.252769     -1.095512   \n",
       "2     1.629848     0.799989              1.091560    -1.507994     -0.020438   \n",
       "3     0.226697     0.799989             -0.138827    -0.252769     -1.095512   \n",
       "4     1.508110    -0.664166              1.091560     2.257683      1.532446   \n",
       "...        ...          ...                   ...          ...           ...   \n",
       "5676  0.004727     0.799989             -1.369215    -0.252769      0.099015   \n",
       "5677  0.455014    -0.664166              1.091560     1.002457     -1.334417   \n",
       "5678 -0.360485     0.799989             -0.138827    -0.252769     -0.498248   \n",
       "5679  1.190844     0.799989             -0.138827    -0.252769     -1.095512   \n",
       "5680 -0.990674     0.799989             -0.138827    -0.252769     -0.498248   \n",
       "\n",
       "        Outlet  Item_Outlet_sales  \n",
       "0     1.507689          38.594591  \n",
       "1    -0.959749          37.434764  \n",
       "2    -1.664731          23.181154  \n",
       "3    -0.959749          49.880407  \n",
       "4     0.097725          73.796563  \n",
       "...        ...                ...  \n",
       "5676  1.155198          45.607194  \n",
       "5677 -0.607258          49.007046  \n",
       "5678  0.802707          41.554330  \n",
       "5679 -0.959749          60.477729  \n",
       "5680  0.802707          36.182842  \n",
       "\n",
       "[5681 rows x 11 columns]"
      ]
     },
     "execution_count": 64,
     "metadata": {},
     "output_type": "execute_result"
    }
   ],
   "source": [
    "X_test"
   ]
  },
  {
   "cell_type": "markdown",
   "id": "fe4ecb31",
   "metadata": {},
   "source": [
    "# Saving the model"
   ]
  },
  {
   "cell_type": "code",
   "execution_count": 65,
   "id": "ac4eafa5",
   "metadata": {},
   "outputs": [
    {
     "data": {
      "text/plain": [
       "['BigMart_prediction.pkl']"
      ]
     },
     "execution_count": 65,
     "metadata": {},
     "output_type": "execute_result"
    }
   ],
   "source": [
    "import joblib\n",
    "joblib.dump(model,\"BigMart_prediction.pkl\")"
   ]
  },
  {
   "cell_type": "code",
   "execution_count": null,
   "id": "c95ab9f1",
   "metadata": {},
   "outputs": [],
   "source": []
  }
 ],
 "metadata": {
  "kernelspec": {
   "display_name": "Python 3",
   "language": "python",
   "name": "python3"
  },
  "language_info": {
   "codemirror_mode": {
    "name": "ipython",
    "version": 3
   },
   "file_extension": ".py",
   "mimetype": "text/x-python",
   "name": "python",
   "nbconvert_exporter": "python",
   "pygments_lexer": "ipython3",
   "version": "3.8.8"
  }
 },
 "nbformat": 4,
 "nbformat_minor": 5
}

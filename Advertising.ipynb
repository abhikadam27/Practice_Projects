{
 "cells": [
  {
   "cell_type": "code",
   "execution_count": 1,
   "id": "223d4fc8",
   "metadata": {},
   "outputs": [],
   "source": [
    "#import Neccessory libraries\n",
    "import pandas as pd\n",
    "import numpy as np\n",
    "import matplotlib.pyplot as plt\n",
    "import seaborn as sns\n",
    "\n",
    "from sklearn.preprocessing import StandardScaler\n",
    "\n",
    "from sklearn.model_selection import train_test_split, GridSearchCV\n",
    "from sklearn.metrics import mean_absolute_error\n",
    "from sklearn.metrics import mean_squared_error\n",
    "from sklearn.metrics import r2_score\n",
    "\n",
    "import warnings\n",
    "warnings.filterwarnings('ignore')\n",
    "%matplotlib inline"
   ]
  },
  {
   "cell_type": "code",
   "execution_count": 2,
   "id": "fe8ae064",
   "metadata": {},
   "outputs": [
    {
     "data": {
      "text/html": [
       "<div>\n",
       "<style scoped>\n",
       "    .dataframe tbody tr th:only-of-type {\n",
       "        vertical-align: middle;\n",
       "    }\n",
       "\n",
       "    .dataframe tbody tr th {\n",
       "        vertical-align: top;\n",
       "    }\n",
       "\n",
       "    .dataframe thead th {\n",
       "        text-align: right;\n",
       "    }\n",
       "</style>\n",
       "<table border=\"1\" class=\"dataframe\">\n",
       "  <thead>\n",
       "    <tr style=\"text-align: right;\">\n",
       "      <th></th>\n",
       "      <th>Unnamed: 0</th>\n",
       "      <th>TV</th>\n",
       "      <th>radio</th>\n",
       "      <th>newspaper</th>\n",
       "      <th>sales</th>\n",
       "    </tr>\n",
       "  </thead>\n",
       "  <tbody>\n",
       "    <tr>\n",
       "      <th>0</th>\n",
       "      <td>1</td>\n",
       "      <td>230.1</td>\n",
       "      <td>37.8</td>\n",
       "      <td>69.2</td>\n",
       "      <td>22.1</td>\n",
       "    </tr>\n",
       "    <tr>\n",
       "      <th>1</th>\n",
       "      <td>2</td>\n",
       "      <td>44.5</td>\n",
       "      <td>39.3</td>\n",
       "      <td>45.1</td>\n",
       "      <td>10.4</td>\n",
       "    </tr>\n",
       "    <tr>\n",
       "      <th>2</th>\n",
       "      <td>3</td>\n",
       "      <td>17.2</td>\n",
       "      <td>45.9</td>\n",
       "      <td>69.3</td>\n",
       "      <td>9.3</td>\n",
       "    </tr>\n",
       "    <tr>\n",
       "      <th>3</th>\n",
       "      <td>4</td>\n",
       "      <td>151.5</td>\n",
       "      <td>41.3</td>\n",
       "      <td>58.5</td>\n",
       "      <td>18.5</td>\n",
       "    </tr>\n",
       "    <tr>\n",
       "      <th>4</th>\n",
       "      <td>5</td>\n",
       "      <td>180.8</td>\n",
       "      <td>10.8</td>\n",
       "      <td>58.4</td>\n",
       "      <td>12.9</td>\n",
       "    </tr>\n",
       "    <tr>\n",
       "      <th>...</th>\n",
       "      <td>...</td>\n",
       "      <td>...</td>\n",
       "      <td>...</td>\n",
       "      <td>...</td>\n",
       "      <td>...</td>\n",
       "    </tr>\n",
       "    <tr>\n",
       "      <th>195</th>\n",
       "      <td>196</td>\n",
       "      <td>38.2</td>\n",
       "      <td>3.7</td>\n",
       "      <td>13.8</td>\n",
       "      <td>7.6</td>\n",
       "    </tr>\n",
       "    <tr>\n",
       "      <th>196</th>\n",
       "      <td>197</td>\n",
       "      <td>94.2</td>\n",
       "      <td>4.9</td>\n",
       "      <td>8.1</td>\n",
       "      <td>9.7</td>\n",
       "    </tr>\n",
       "    <tr>\n",
       "      <th>197</th>\n",
       "      <td>198</td>\n",
       "      <td>177.0</td>\n",
       "      <td>9.3</td>\n",
       "      <td>6.4</td>\n",
       "      <td>12.8</td>\n",
       "    </tr>\n",
       "    <tr>\n",
       "      <th>198</th>\n",
       "      <td>199</td>\n",
       "      <td>283.6</td>\n",
       "      <td>42.0</td>\n",
       "      <td>66.2</td>\n",
       "      <td>25.5</td>\n",
       "    </tr>\n",
       "    <tr>\n",
       "      <th>199</th>\n",
       "      <td>200</td>\n",
       "      <td>232.1</td>\n",
       "      <td>8.6</td>\n",
       "      <td>8.7</td>\n",
       "      <td>13.4</td>\n",
       "    </tr>\n",
       "  </tbody>\n",
       "</table>\n",
       "<p>200 rows × 5 columns</p>\n",
       "</div>"
      ],
      "text/plain": [
       "     Unnamed: 0     TV  radio  newspaper  sales\n",
       "0             1  230.1   37.8       69.2   22.1\n",
       "1             2   44.5   39.3       45.1   10.4\n",
       "2             3   17.2   45.9       69.3    9.3\n",
       "3             4  151.5   41.3       58.5   18.5\n",
       "4             5  180.8   10.8       58.4   12.9\n",
       "..          ...    ...    ...        ...    ...\n",
       "195         196   38.2    3.7       13.8    7.6\n",
       "196         197   94.2    4.9        8.1    9.7\n",
       "197         198  177.0    9.3        6.4   12.8\n",
       "198         199  283.6   42.0       66.2   25.5\n",
       "199         200  232.1    8.6        8.7   13.4\n",
       "\n",
       "[200 rows x 5 columns]"
      ]
     },
     "execution_count": 2,
     "metadata": {},
     "output_type": "execute_result"
    }
   ],
   "source": [
    "#Read csv file and convert into dataframe\n",
    "df = pd.read_csv(r\"C:\\Users\\ABHINANDAN\\Desktop\\data science\\New folder\\DSData-master\\Advertising.csv\")\n",
    "df"
   ]
  },
  {
   "cell_type": "code",
   "execution_count": 3,
   "id": "266829b8",
   "metadata": {},
   "outputs": [
    {
     "data": {
      "text/plain": [
       "Unnamed: 0    0\n",
       "TV            0\n",
       "radio         0\n",
       "newspaper     0\n",
       "sales         0\n",
       "dtype: int64"
      ]
     },
     "execution_count": 3,
     "metadata": {},
     "output_type": "execute_result"
    }
   ],
   "source": [
    "#Lets check  number of null values in each column\n",
    "df.isnull().sum()"
   ]
  },
  {
   "cell_type": "code",
   "execution_count": 4,
   "id": "4bd6b243",
   "metadata": {},
   "outputs": [
    {
     "name": "stdout",
     "output_type": "stream",
     "text": [
      "<class 'pandas.core.frame.DataFrame'>\n",
      "RangeIndex: 200 entries, 0 to 199\n",
      "Data columns (total 5 columns):\n",
      " #   Column      Non-Null Count  Dtype  \n",
      "---  ------      --------------  -----  \n",
      " 0   Unnamed: 0  200 non-null    int64  \n",
      " 1   TV          200 non-null    float64\n",
      " 2   radio       200 non-null    float64\n",
      " 3   newspaper   200 non-null    float64\n",
      " 4   sales       200 non-null    float64\n",
      "dtypes: float64(4), int64(1)\n",
      "memory usage: 7.9 KB\n"
     ]
    }
   ],
   "source": [
    "#lets look at the info about data\n",
    "df.info()"
   ]
  },
  {
   "cell_type": "code",
   "execution_count": 5,
   "id": "440e1edb",
   "metadata": {},
   "outputs": [
    {
     "data": {
      "text/html": [
       "<div>\n",
       "<style scoped>\n",
       "    .dataframe tbody tr th:only-of-type {\n",
       "        vertical-align: middle;\n",
       "    }\n",
       "\n",
       "    .dataframe tbody tr th {\n",
       "        vertical-align: top;\n",
       "    }\n",
       "\n",
       "    .dataframe thead th {\n",
       "        text-align: right;\n",
       "    }\n",
       "</style>\n",
       "<table border=\"1\" class=\"dataframe\">\n",
       "  <thead>\n",
       "    <tr style=\"text-align: right;\">\n",
       "      <th></th>\n",
       "      <th>TV</th>\n",
       "      <th>radio</th>\n",
       "      <th>newspaper</th>\n",
       "      <th>sales</th>\n",
       "    </tr>\n",
       "  </thead>\n",
       "  <tbody>\n",
       "    <tr>\n",
       "      <th>0</th>\n",
       "      <td>230.1</td>\n",
       "      <td>37.8</td>\n",
       "      <td>69.2</td>\n",
       "      <td>22.1</td>\n",
       "    </tr>\n",
       "    <tr>\n",
       "      <th>1</th>\n",
       "      <td>44.5</td>\n",
       "      <td>39.3</td>\n",
       "      <td>45.1</td>\n",
       "      <td>10.4</td>\n",
       "    </tr>\n",
       "    <tr>\n",
       "      <th>2</th>\n",
       "      <td>17.2</td>\n",
       "      <td>45.9</td>\n",
       "      <td>69.3</td>\n",
       "      <td>9.3</td>\n",
       "    </tr>\n",
       "    <tr>\n",
       "      <th>3</th>\n",
       "      <td>151.5</td>\n",
       "      <td>41.3</td>\n",
       "      <td>58.5</td>\n",
       "      <td>18.5</td>\n",
       "    </tr>\n",
       "    <tr>\n",
       "      <th>4</th>\n",
       "      <td>180.8</td>\n",
       "      <td>10.8</td>\n",
       "      <td>58.4</td>\n",
       "      <td>12.9</td>\n",
       "    </tr>\n",
       "    <tr>\n",
       "      <th>...</th>\n",
       "      <td>...</td>\n",
       "      <td>...</td>\n",
       "      <td>...</td>\n",
       "      <td>...</td>\n",
       "    </tr>\n",
       "    <tr>\n",
       "      <th>195</th>\n",
       "      <td>38.2</td>\n",
       "      <td>3.7</td>\n",
       "      <td>13.8</td>\n",
       "      <td>7.6</td>\n",
       "    </tr>\n",
       "    <tr>\n",
       "      <th>196</th>\n",
       "      <td>94.2</td>\n",
       "      <td>4.9</td>\n",
       "      <td>8.1</td>\n",
       "      <td>9.7</td>\n",
       "    </tr>\n",
       "    <tr>\n",
       "      <th>197</th>\n",
       "      <td>177.0</td>\n",
       "      <td>9.3</td>\n",
       "      <td>6.4</td>\n",
       "      <td>12.8</td>\n",
       "    </tr>\n",
       "    <tr>\n",
       "      <th>198</th>\n",
       "      <td>283.6</td>\n",
       "      <td>42.0</td>\n",
       "      <td>66.2</td>\n",
       "      <td>25.5</td>\n",
       "    </tr>\n",
       "    <tr>\n",
       "      <th>199</th>\n",
       "      <td>232.1</td>\n",
       "      <td>8.6</td>\n",
       "      <td>8.7</td>\n",
       "      <td>13.4</td>\n",
       "    </tr>\n",
       "  </tbody>\n",
       "</table>\n",
       "<p>200 rows × 4 columns</p>\n",
       "</div>"
      ],
      "text/plain": [
       "        TV  radio  newspaper  sales\n",
       "0    230.1   37.8       69.2   22.1\n",
       "1     44.5   39.3       45.1   10.4\n",
       "2     17.2   45.9       69.3    9.3\n",
       "3    151.5   41.3       58.5   18.5\n",
       "4    180.8   10.8       58.4   12.9\n",
       "..     ...    ...        ...    ...\n",
       "195   38.2    3.7       13.8    7.6\n",
       "196   94.2    4.9        8.1    9.7\n",
       "197  177.0    9.3        6.4   12.8\n",
       "198  283.6   42.0       66.2   25.5\n",
       "199  232.1    8.6        8.7   13.4\n",
       "\n",
       "[200 rows x 4 columns]"
      ]
     },
     "execution_count": 5,
     "metadata": {},
     "output_type": "execute_result"
    }
   ],
   "source": [
    "#  Lets remove unwanted column\n",
    "df = df.drop(columns = \"Unnamed: 0\", axis = 1)\n",
    "df"
   ]
  },
  {
   "cell_type": "markdown",
   "id": "362dfb90",
   "metadata": {},
   "source": [
    "# Visualization"
   ]
  },
  {
   "cell_type": "code",
   "execution_count": 6,
   "id": "fe4b0101",
   "metadata": {},
   "outputs": [
    {
     "data": {
      "text/plain": [
       "<AxesSubplot:xlabel='TV', ylabel='sales'>"
      ]
     },
     "execution_count": 6,
     "metadata": {},
     "output_type": "execute_result"
    },
    {
     "data": {
      "image/png": "[encoded data removed]",
      "text/plain": [
       "<Figure size 432x288 with 1 Axes>"
      ]
     },
     "metadata": {
      "needs_background": "light"
     },
     "output_type": "display_data"
    }
   ],
   "source": [
    "#Lets visualize the relation between TV and sales\n",
    "sns.scatterplot(x= \"TV\", y = \"sales\", data = df)\n",
    "#From below graph we can clearly understand that TV advertising is linearly related with sales\n",
    "#That is if we investment  more in TV advertising it will give more sales"
   ]
  },
  {
   "cell_type": "code",
   "execution_count": 7,
   "id": "475d6ce5",
   "metadata": {},
   "outputs": [
    {
     "data": {
      "text/plain": [
       "<AxesSubplot:xlabel='radio', ylabel='sales'>"
      ]
     },
     "execution_count": 7,
     "metadata": {},
     "output_type": "execute_result"
    },
    {
     "data": {
      "image/png": "[encoded data removed]",
      "text/plain": [
       "<Figure size 432x288 with 1 Axes>"
      ]
     },
     "metadata": {
      "needs_background": "light"
     },
     "output_type": "display_data"
    }
   ],
   "source": [
    "#Now lets visualize the relation between radio and sales\n",
    "sns.scatterplot(x= \"radio\", y = \"sales\", data = df)\n",
    "#Radio advertising is also linearly related to sales, but some times it will give less sales at higher investment as well.\n",
    "#that means the relation is not that strong as compare to TV advertising"
   ]
  },
  {
   "cell_type": "code",
   "execution_count": 8,
   "id": "3e68d0b3",
   "metadata": {},
   "outputs": [
    {
     "data": {
      "text/plain": [
       "<AxesSubplot:xlabel='newspaper', ylabel='sales'>"
      ]
     },
     "execution_count": 8,
     "metadata": {},
     "output_type": "execute_result"
    },
    {
     "data": {
      "image/png": "[encoded data removed]",
      "text/plain": [
       "<Figure size 432x288 with 1 Axes>"
      ]
     },
     "metadata": {
      "needs_background": "light"
     },
     "output_type": "display_data"
    }
   ],
   "source": [
    "#lets visualize the relation between newspaper and sales\n",
    "sns.scatterplot(x = \"newspaper\", y = \"sales\", data = df)\n",
    "# It looks like the Newspaper advertising is not in good relationship with sales\n",
    "# At lower investment it is giving less sales as well as higher sales and at the same time at higher investment sales may go down.\n",
    "# So it is better to not invest much in Newspaper advertising"
   ]
  },
  {
   "cell_type": "code",
   "execution_count": 9,
   "id": "b89d2287",
   "metadata": {},
   "outputs": [
    {
     "data": {
      "image/png": "[encoded data removed]",
      "text/plain": [
       "<Figure size 720x360 with 2 Axes>"
      ]
     },
     "metadata": {
      "needs_background": "light"
     },
     "output_type": "display_data"
    }
   ],
   "source": [
    "#Lets check the correlation among features\n",
    "df_corr = df.corr()\n",
    "plt.figure(figsize = (10,5))\n",
    "sns.heatmap(df_corr,vmin=-1,vmax=1,annot=True,square=True,center=0,fmt='.2g',linewidths=0.1)\n",
    "plt.tight_layout()"
   ]
  },
  {
   "cell_type": "markdown",
   "id": "9ddb0b87",
   "metadata": {},
   "source": [
    "We can say that investment in TV advertising will give more sales as compared to radio and newspaper.\n",
    "\n",
    "But at the same time the cost involved in TV advertising will be much Higher compared to radio and newspaper."
   ]
  },
  {
   "cell_type": "code",
   "execution_count": 10,
   "id": "7f96a435",
   "metadata": {},
   "outputs": [
    {
     "data": {
      "text/html": [
       "<div>\n",
       "<style scoped>\n",
       "    .dataframe tbody tr th:only-of-type {\n",
       "        vertical-align: middle;\n",
       "    }\n",
       "\n",
       "    .dataframe tbody tr th {\n",
       "        vertical-align: top;\n",
       "    }\n",
       "\n",
       "    .dataframe thead th {\n",
       "        text-align: right;\n",
       "    }\n",
       "</style>\n",
       "<table border=\"1\" class=\"dataframe\">\n",
       "  <thead>\n",
       "    <tr style=\"text-align: right;\">\n",
       "      <th></th>\n",
       "      <th>TV</th>\n",
       "      <th>radio</th>\n",
       "      <th>newspaper</th>\n",
       "      <th>sales</th>\n",
       "    </tr>\n",
       "  </thead>\n",
       "  <tbody>\n",
       "    <tr>\n",
       "      <th>count</th>\n",
       "      <td>200.000000</td>\n",
       "      <td>200.000000</td>\n",
       "      <td>200.000000</td>\n",
       "      <td>200.000000</td>\n",
       "    </tr>\n",
       "    <tr>\n",
       "      <th>mean</th>\n",
       "      <td>147.042500</td>\n",
       "      <td>23.264000</td>\n",
       "      <td>30.554000</td>\n",
       "      <td>14.022500</td>\n",
       "    </tr>\n",
       "    <tr>\n",
       "      <th>std</th>\n",
       "      <td>85.854236</td>\n",
       "      <td>14.846809</td>\n",
       "      <td>21.778621</td>\n",
       "      <td>5.217457</td>\n",
       "    </tr>\n",
       "    <tr>\n",
       "      <th>min</th>\n",
       "      <td>0.700000</td>\n",
       "      <td>0.000000</td>\n",
       "      <td>0.300000</td>\n",
       "      <td>1.600000</td>\n",
       "    </tr>\n",
       "    <tr>\n",
       "      <th>25%</th>\n",
       "      <td>74.375000</td>\n",
       "      <td>9.975000</td>\n",
       "      <td>12.750000</td>\n",
       "      <td>10.375000</td>\n",
       "    </tr>\n",
       "    <tr>\n",
       "      <th>50%</th>\n",
       "      <td>149.750000</td>\n",
       "      <td>22.900000</td>\n",
       "      <td>25.750000</td>\n",
       "      <td>12.900000</td>\n",
       "    </tr>\n",
       "    <tr>\n",
       "      <th>75%</th>\n",
       "      <td>218.825000</td>\n",
       "      <td>36.525000</td>\n",
       "      <td>45.100000</td>\n",
       "      <td>17.400000</td>\n",
       "    </tr>\n",
       "    <tr>\n",
       "      <th>max</th>\n",
       "      <td>296.400000</td>\n",
       "      <td>49.600000</td>\n",
       "      <td>114.000000</td>\n",
       "      <td>27.000000</td>\n",
       "    </tr>\n",
       "  </tbody>\n",
       "</table>\n",
       "</div>"
      ],
      "text/plain": [
       "               TV       radio   newspaper       sales\n",
       "count  200.000000  200.000000  200.000000  200.000000\n",
       "mean   147.042500   23.264000   30.554000   14.022500\n",
       "std     85.854236   14.846809   21.778621    5.217457\n",
       "min      0.700000    0.000000    0.300000    1.600000\n",
       "25%     74.375000    9.975000   12.750000   10.375000\n",
       "50%    149.750000   22.900000   25.750000   12.900000\n",
       "75%    218.825000   36.525000   45.100000   17.400000\n",
       "max    296.400000   49.600000  114.000000   27.000000"
      ]
     },
     "execution_count": 10,
     "metadata": {},
     "output_type": "execute_result"
    }
   ],
   "source": [
    "#describe the data\n",
    "df.describe()"
   ]
  },
  {
   "cell_type": "markdown",
   "id": "61e88297",
   "metadata": {},
   "source": [
    "Greate our data looks good."
   ]
  },
  {
   "cell_type": "code",
   "execution_count": 11,
   "id": "c8a9d267",
   "metadata": {},
   "outputs": [
    {
     "data": {
      "image/png": "[encoded data removed]",
      "text/plain": [
       "<Figure size 1080x720 with 4 Axes>"
      ]
     },
     "metadata": {
      "needs_background": "light"
     },
     "output_type": "display_data"
    }
   ],
   "source": [
    "#Lets see how the data is distributed\n",
    "plt.figure(figsize = (15,10))\n",
    "plotnumber = 1\n",
    "for column in df:\n",
    "    if plotnumber <=4:\n",
    "        ax = plt.subplot(2,2,plotnumber)\n",
    "        sns.distplot(df[column])\n",
    "        plt.xlabel(column,fontsize = 20)\n",
    "    plotnumber+=1\n",
    "plt.tight_layout()"
   ]
  },
  {
   "cell_type": "markdown",
   "id": "89f8d114",
   "metadata": {},
   "source": [
    "It seems there is little skewness in newspaper column, but the data set is too small and we don't want to loose data here, so we are not removing outliers"
   ]
  },
  {
   "cell_type": "code",
   "execution_count": 12,
   "id": "6c6f2666",
   "metadata": {},
   "outputs": [],
   "source": [
    "#lets saperate our data into features and label\n",
    "x = df.drop(columns = [\"sales\"], axis = 1)\n",
    "y = df[\"sales\"]"
   ]
  },
  {
   "cell_type": "code",
   "execution_count": 13,
   "id": "dfb204a1",
   "metadata": {},
   "outputs": [],
   "source": [
    "#Data scaling\n",
    "scaler = StandardScaler()\n",
    "x_scaled = scaler.fit_transform(x)"
   ]
  },
  {
   "cell_type": "markdown",
   "id": "06455f1d",
   "metadata": {},
   "source": [
    "## Find best random_state"
   ]
  },
  {
   "cell_type": "code",
   "execution_count": 14,
   "id": "d0562592",
   "metadata": {},
   "outputs": [
    {
     "name": "stdout",
     "output_type": "stream",
     "text": [
      "max r2 score is 0.9321761637487651 on Random State 152\n"
     ]
    }
   ],
   "source": [
    "#to find random stat which gives maximum r2_score\n",
    "from sklearn.linear_model import LinearRegression\n",
    "max_r_score=0\n",
    "r_state = 0\n",
    "for i in range(150,200):\n",
    "    x_train, x_test, y_train, y_test = train_test_split(x_scaled, y,test_size = 0.25,random_state = r_state)\n",
    "    reg = LinearRegression()\n",
    "    reg.fit(x_train,y_train)\n",
    "    y_pred = reg.predict(x_test)\n",
    "    r2_scr=r2_score(y_test,y_pred)\n",
    "    if r2_scr > max_r_score:\n",
    "        max_r_score = r2_scr\n",
    "        r_state = i\n",
    "print(\"max r2 score is\",max_r_score,\"on Random State\",r_state)"
   ]
  },
  {
   "cell_type": "code",
   "execution_count": 15,
   "id": "99745ed0",
   "metadata": {},
   "outputs": [],
   "source": [
    "#lets split our train data into train and test part\n",
    "x_train, x_test, y_train, y_test = train_test_split(x_scaled, y,test_size = 0.25,random_state = 151)"
   ]
  },
  {
   "cell_type": "code",
   "execution_count": 16,
   "id": "2c5c8cc0",
   "metadata": {},
   "outputs": [
    {
     "name": "stdout",
     "output_type": "stream",
     "text": [
      "Training accuracy : 0.8851914810921924\n",
      "Testing accuracy : 0.9321761637487651\n",
      "RMSE : 1.36455868613339\n",
      "R2 Score : 0.9321761637487651\n"
     ]
    }
   ],
   "source": [
    "#Model with LinearRegression\n",
    "reg.fit(x_train,y_train)\n",
    "y_pred = reg.predict(x_test)\n",
    "print(\"Training accuracy :\", reg.score(x_train,y_train))\n",
    "print(\"Testing accuracy :\", reg.score(x_test,y_test))\n",
    "#evaluation\n",
    "mse = mean_squared_error(y_test,y_pred)\n",
    "rmse = np.sqrt(mse)\n",
    "print(\"RMSE :\", rmse)\n",
    "\n",
    "# r2 score\n",
    "r2 = r2_score(y_test,y_pred)\n",
    "print(\"R2 Score :\", r2)"
   ]
  },
  {
   "cell_type": "code",
   "execution_count": 17,
   "id": "cc46c422",
   "metadata": {},
   "outputs": [
    {
     "name": "stdout",
     "output_type": "stream",
     "text": [
      "Training accuracy : 1.0\n",
      "Testing accuracy : 0.9461859089984562\n",
      "RMSE : 1.2154834429147934\n",
      "R2 Score : 0.9461859089984562\n"
     ]
    }
   ],
   "source": [
    "#Model with DecesionTreeRegressor\n",
    "from sklearn.tree import DecisionTreeRegressor\n",
    "dt = DecisionTreeRegressor()\n",
    "dt.fit(x_train, y_train)\n",
    "pred_dt = dt.predict(x_test)\n",
    "print(\"Training accuracy :\", dt.score(x_train,y_train))\n",
    "print(\"Testing accuracy :\", dt.score(x_test,y_test))\n",
    "#evaluation\n",
    "mse = mean_squared_error(y_test,pred_dt)\n",
    "rmse = np.sqrt(mse)\n",
    "print(\"RMSE :\", rmse)\n",
    "\n",
    "# r2 score\n",
    "r2 = r2_score(y_test,pred_dt)\n",
    "print(\"R2 Score :\", r2)"
   ]
  },
  {
   "cell_type": "code",
   "execution_count": 18,
   "id": "824460f2",
   "metadata": {},
   "outputs": [
    {
     "name": "stdout",
     "output_type": "stream",
     "text": [
      "Training accuracy : 0.9966868938994302\n",
      "Testing accuracy : 0.9677818213421716\n",
      "RMSE : 0.9404842688742857\n",
      "R2 Score : 0.9677818213421716\n"
     ]
    }
   ],
   "source": [
    "#Model with RandomForestRegressor\n",
    "from sklearn.ensemble import RandomForestRegressor\n",
    "\n",
    "rf = RandomForestRegressor()\n",
    "rf.fit(x_train, y_train)\n",
    "y_pred = rf.predict(x_test)\n",
    "print(\"Training accuracy :\", rf.score(x_train,y_train))\n",
    "print(\"Testing accuracy :\", rf.score(x_test,y_test))\n",
    "# evaluation\n",
    "mse = mean_squared_error(y_test, y_pred)\n",
    "rmse = np.sqrt(mse)\n",
    "print(\"RMSE :\", rmse)\n",
    "\n",
    "# r2 score\n",
    "r2 = r2_score(y_test, y_pred)\n",
    "print(\"R2 Score :\", r2)"
   ]
  },
  {
   "cell_type": "code",
   "execution_count": 19,
   "id": "165dc128",
   "metadata": {},
   "outputs": [
    {
     "name": "stdout",
     "output_type": "stream",
     "text": [
      "Training accuracy : 0.9560522129983794\n",
      "Testing accuracy : 0.9378443242197357\n",
      "RMSE : 1.30629552552246\n",
      "R2 Score : 0.9378443242197357\n"
     ]
    }
   ],
   "source": [
    "#Model with KNeighborsRegressor\n",
    "from sklearn.neighbors import KNeighborsRegressor\n",
    "knr =  KNeighborsRegressor()\n",
    "knr.fit(x_train, y_train)\n",
    "pred_knr = knr.predict(x_test)\n",
    "print(\"Training accuracy :\", knr.score(x_train,y_train))\n",
    "print(\"Testing accuracy :\", knr.score(x_test,y_test))\n",
    "# evaluation\n",
    "mse = mean_squared_error(y_test, pred_knr)\n",
    "rmse = np.sqrt(mse)\n",
    "print(\"RMSE :\", rmse)\n",
    "\n",
    "# r2 score\n",
    "r2 = r2_score(y_test, pred_knr)\n",
    "print(\"R2 Score :\", r2)"
   ]
  },
  {
   "cell_type": "code",
   "execution_count": 20,
   "id": "fab81eb7",
   "metadata": {},
   "outputs": [
    {
     "name": "stdout",
     "output_type": "stream",
     "text": [
      "Training accuracy : 0.9560522129983794\n",
      "Testing accuracy : 0.9378443242197357\n",
      "RMSE : 1.30629552552246\n",
      "R2 Score : 0.9378443242197357\n"
     ]
    }
   ],
   "source": [
    "#Lets use SVM regressor\n",
    "from sklearn.svm import SVR\n",
    "svr =  KNeighborsRegressor()\n",
    "svr.fit(x_train, y_train)\n",
    "pred_svr = knr.predict(x_test)\n",
    "print(\"Training accuracy :\", svr.score(x_train,y_train))\n",
    "print(\"Testing accuracy :\", svr.score(x_test,y_test))\n",
    "# evaluation\n",
    "mse = mean_squared_error(y_test, pred_svr)\n",
    "rmse = np.sqrt(mse)\n",
    "print(\"RMSE :\", rmse)\n",
    "\n",
    "# r2 score\n",
    "r2 = r2_score(y_test, pred_svr)\n",
    "print(\"R2 Score :\", r2)"
   ]
  },
  {
   "cell_type": "code",
   "execution_count": 21,
   "id": "6954b367",
   "metadata": {},
   "outputs": [
    {
     "name": "stdout",
     "output_type": "stream",
     "text": [
      "Cross validation score of LinearRegression model is : 0.8871063495438435\n"
     ]
    }
   ],
   "source": [
    "from sklearn.model_selection import KFold, cross_val_score\n",
    "k_f =KFold(n_splits = 3, shuffle = True)\n",
    "k_f\n",
    "#for LinearRegression model\n",
    "reg = LinearRegression()\n",
    "c_scores = cross_val_score(reg,x_scaled,y,cv=5)\n",
    "print(\"Cross validation score of LinearRegression model is :\", c_scores.mean())"
   ]
  },
  {
   "cell_type": "code",
   "execution_count": 22,
   "id": "c1775189",
   "metadata": {},
   "outputs": [
    {
     "name": "stdout",
     "output_type": "stream",
     "text": [
      "Cross validation score of DecisionTreeRegressor model is : 0.9522483872263375\n"
     ]
    }
   ],
   "source": [
    "#for DecesionTreeRegressor model\n",
    "dt =DecisionTreeRegressor()\n",
    "c_scores = cross_val_score(dt,x_scaled,y,cv=5)\n",
    "print(\"Cross validation score of DecisionTreeRegressor model is :\", c_scores.mean())"
   ]
  },
  {
   "cell_type": "code",
   "execution_count": 23,
   "id": "2f4b8f13",
   "metadata": {},
   "outputs": [
    {
     "name": "stdout",
     "output_type": "stream",
     "text": [
      "Cross validation score of RandomForestRegressor model is : 0.974901605146347\n"
     ]
    }
   ],
   "source": [
    "#for RandomForestRegressor model\n",
    "c_scores = cross_val_score(rf,x_scaled,y,cv=5)\n",
    "print(\"Cross validation score of RandomForestRegressor model is :\", c_scores.mean())"
   ]
  },
  {
   "cell_type": "code",
   "execution_count": 24,
   "id": "f5ae0002",
   "metadata": {},
   "outputs": [
    {
     "name": "stdout",
     "output_type": "stream",
     "text": [
      "Cross validation score of KNeighborsRegressor model is : 0.940813583487013\n"
     ]
    }
   ],
   "source": [
    "#for KNeighborsRegressor model\n",
    "c_scores = cross_val_score(knr,x_scaled,y,cv=5)\n",
    "print(\"Cross validation score of KNeighborsRegressor model is :\", c_scores.mean())"
   ]
  },
  {
   "cell_type": "code",
   "execution_count": 25,
   "id": "b0c17f8d",
   "metadata": {},
   "outputs": [
    {
     "name": "stdout",
     "output_type": "stream",
     "text": [
      "Cross validation score of SVR model is : 0.940813583487013\n"
     ]
    }
   ],
   "source": [
    "#for SVR model\n",
    "c_scores = cross_val_score(svr,x_scaled,y,cv=5)\n",
    "print(\"Cross validation score of SVR model is :\", c_scores.mean())"
   ]
  },
  {
   "cell_type": "markdown",
   "id": "10edafbb",
   "metadata": {},
   "source": [
    "Here four algorithms giving the CV score more than accuracy,\n",
    "\n",
    "DecisionTreeRegressor is giving least difference in CV score and accuracy, hence we are selecting this algorithm as a best fit model"
   ]
  },
  {
   "cell_type": "markdown",
   "id": "149ef745",
   "metadata": {},
   "source": [
    "### Hyperparameter tuning"
   ]
  },
  {
   "cell_type": "code",
   "execution_count": 34,
   "id": "cf640e2b",
   "metadata": {},
   "outputs": [],
   "source": [
    "grid_params = {\n",
    "                'criterion':['mse', 'friedman_mse', 'mae', 'poisson'],\n",
    "                'min_samples_leaf':[1,2,3,5,6],\n",
    "                'max_depth':[3,5,6,8,10,12],\n",
    "                'min_samples_split':[1,2,3,5,6],\n",
    "                }"
   ]
  },
  {
   "cell_type": "code",
   "execution_count": 35,
   "id": "5d89f5f2",
   "metadata": {},
   "outputs": [
    {
     "data": {
      "text/plain": [
       "GridSearchCV(cv=5, estimator=DecisionTreeRegressor(),\n",
       "             param_grid={'criterion': ['mse', 'friedman_mse', 'mae', 'poisson'],\n",
       "                         'max_depth': [3, 5, 6, 8, 10, 12],\n",
       "                         'min_samples_leaf': [1, 2, 3, 5, 6],\n",
       "                         'min_samples_split': [1, 2, 3, 5, 6]})"
      ]
     },
     "execution_count": 35,
     "metadata": {},
     "output_type": "execute_result"
    }
   ],
   "source": [
    "GCV =  GridSearchCV(DecisionTreeRegressor(),  grid_params, cv = 5)\n",
    "GCV.fit(x_train,y_train)"
   ]
  },
  {
   "cell_type": "code",
   "execution_count": 36,
   "id": "cd104e99",
   "metadata": {},
   "outputs": [
    {
     "data": {
      "text/plain": [
       "{'criterion': 'mae',\n",
       " 'max_depth': 10,\n",
       " 'min_samples_leaf': 2,\n",
       " 'min_samples_split': 3}"
      ]
     },
     "execution_count": 36,
     "metadata": {},
     "output_type": "execute_result"
    }
   ],
   "source": [
    "GCV.best_params_       #printing the best parameters found by GridSearchCV"
   ]
  },
  {
   "cell_type": "code",
   "execution_count": 37,
   "id": "f80d1d8b",
   "metadata": {},
   "outputs": [
    {
     "name": "stdout",
     "output_type": "stream",
     "text": [
      "r2 Score: 94.14652468935421%\n",
      "---------------------------------------------------\n",
      "RMSE : 1.2676750372236572\n"
     ]
    }
   ],
   "source": [
    "#Let's train and test our model using best parameters\n",
    "model = DecisionTreeRegressor(criterion = 'mae',max_depth=7,min_samples_leaf=3,min_samples_split= 3)\n",
    "\n",
    "model.fit(x_train,y_train)\n",
    "pred = model.predict(x_test)\n",
    "\n",
    "# evaluation\n",
    "mse = mean_squared_error(y_test, pred)\n",
    "rmse = np.sqrt(mse)\n",
    "\n",
    "print(f\"r2 Score: {r2_score(y_test,pred)*100}%\")\n",
    "print(\"---------------------------------------------------\")\n",
    "print(\"RMSE :\", rmse)"
   ]
  },
  {
   "cell_type": "markdown",
   "id": "4a3ffa8c",
   "metadata": {},
   "source": [
    "## Saving model"
   ]
  },
  {
   "cell_type": "code",
   "execution_count": 30,
   "id": "7f8c9519",
   "metadata": {},
   "outputs": [
    {
     "data": {
      "text/plain": [
       "['Advertising.pkl']"
      ]
     },
     "execution_count": 30,
     "metadata": {},
     "output_type": "execute_result"
    }
   ],
   "source": [
    "import joblib\n",
    "joblib.dump(model,\"Advertising.pkl\")"
   ]
  },
  {
   "cell_type": "code",
   "execution_count": null,
   "id": "1e6d17f7",
   "metadata": {},
   "outputs": [],
   "source": []
  }
 ],
 "metadata": {
  "kernelspec": {
   "display_name": "Python 3",
   "language": "python",
   "name": "python3"
  },
  "language_info": {
   "codemirror_mode": {
    "name": "ipython",
    "version": 3
   },
   "file_extension": ".py",
   "mimetype": "text/x-python",
   "name": "python",
   "nbconvert_exporter": "python",
   "pygments_lexer": "ipython3",
   "version": "3.8.8"
  }
 },
 "nbformat": 4,
 "nbformat_minor": 5
}
